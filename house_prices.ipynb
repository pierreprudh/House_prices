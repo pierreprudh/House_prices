{
 "cells": [
  {
   "attachments": {},
   "cell_type": "markdown",
   "metadata": {},
   "source": [
    "<div style=\"background-image: linear-gradient(to right, #4b4cff , #00d4ff); text-align: center; padding: 50px;\">\n",
    "  <h1 style=\"font-family: 'Segoe UI', Tahoma, Geneva, Verdana, sans-serif; font-size: 48px; color: white; text-shadow: 2px 2px #4b4cff;\">\n",
    "  House Prices Prediction\n",
    "  </h1>\n",
    "</div>"
   ]
  },
  {
   "attachments": {},
   "cell_type": "markdown",
   "metadata": {},
   "source": [
    "<h2 style=\"color:#f7ce5b; font-family: Arial, sans-serif; font-size: 40px; margin-top: 50px; border-bottom: 2px solid #f7ce5b;\">\n",
    "Library\n",
    "</h2>"
   ]
  },
  {
   "cell_type": "code",
   "execution_count": 197,
   "metadata": {},
   "outputs": [],
   "source": [
    "import pandas as pd \n",
    "import numpy as np \n",
    "import matplotlib.pyplot as plt \n",
    "import seaborn as sns\n",
    "import sklearn\n",
    "from sklearn.preprocessing import LabelEncoder\n",
    "from sklearn.model_selection import train_test_split"
   ]
  },
  {
   "attachments": {},
   "cell_type": "markdown",
   "metadata": {},
   "source": [
    "<h2 style=\"color:#f7ce5b; font-family: Arial, sans-serif; font-size: 40px; margin-top: 50px; border-bottom: 2px solid #f7ce5b;\">\n",
    "Data\n",
    "</h2>"
   ]
  },
  {
   "cell_type": "code",
   "execution_count": 198,
   "metadata": {},
   "outputs": [
    {
     "data": {
      "text/html": [
       "<div>\n",
       "<style scoped>\n",
       "    .dataframe tbody tr th:only-of-type {\n",
       "        vertical-align: middle;\n",
       "    }\n",
       "\n",
       "    .dataframe tbody tr th {\n",
       "        vertical-align: top;\n",
       "    }\n",
       "\n",
       "    .dataframe thead th {\n",
       "        text-align: right;\n",
       "    }\n",
       "</style>\n",
       "<table border=\"1\" class=\"dataframe\">\n",
       "  <thead>\n",
       "    <tr style=\"text-align: right;\">\n",
       "      <th></th>\n",
       "      <th>Id</th>\n",
       "      <th>MSSubClass</th>\n",
       "      <th>MSZoning</th>\n",
       "      <th>LotFrontage</th>\n",
       "      <th>LotArea</th>\n",
       "      <th>Street</th>\n",
       "      <th>Alley</th>\n",
       "      <th>LotShape</th>\n",
       "      <th>LandContour</th>\n",
       "      <th>Utilities</th>\n",
       "      <th>...</th>\n",
       "      <th>PoolArea</th>\n",
       "      <th>PoolQC</th>\n",
       "      <th>Fence</th>\n",
       "      <th>MiscFeature</th>\n",
       "      <th>MiscVal</th>\n",
       "      <th>MoSold</th>\n",
       "      <th>YrSold</th>\n",
       "      <th>SaleType</th>\n",
       "      <th>SaleCondition</th>\n",
       "      <th>SalePrice</th>\n",
       "    </tr>\n",
       "  </thead>\n",
       "  <tbody>\n",
       "    <tr>\n",
       "      <th>0</th>\n",
       "      <td>1</td>\n",
       "      <td>60</td>\n",
       "      <td>RL</td>\n",
       "      <td>65.0</td>\n",
       "      <td>8450</td>\n",
       "      <td>Pave</td>\n",
       "      <td>NaN</td>\n",
       "      <td>Reg</td>\n",
       "      <td>Lvl</td>\n",
       "      <td>AllPub</td>\n",
       "      <td>...</td>\n",
       "      <td>0</td>\n",
       "      <td>NaN</td>\n",
       "      <td>NaN</td>\n",
       "      <td>NaN</td>\n",
       "      <td>0</td>\n",
       "      <td>2</td>\n",
       "      <td>2008</td>\n",
       "      <td>WD</td>\n",
       "      <td>Normal</td>\n",
       "      <td>208500</td>\n",
       "    </tr>\n",
       "    <tr>\n",
       "      <th>1</th>\n",
       "      <td>2</td>\n",
       "      <td>20</td>\n",
       "      <td>RL</td>\n",
       "      <td>80.0</td>\n",
       "      <td>9600</td>\n",
       "      <td>Pave</td>\n",
       "      <td>NaN</td>\n",
       "      <td>Reg</td>\n",
       "      <td>Lvl</td>\n",
       "      <td>AllPub</td>\n",
       "      <td>...</td>\n",
       "      <td>0</td>\n",
       "      <td>NaN</td>\n",
       "      <td>NaN</td>\n",
       "      <td>NaN</td>\n",
       "      <td>0</td>\n",
       "      <td>5</td>\n",
       "      <td>2007</td>\n",
       "      <td>WD</td>\n",
       "      <td>Normal</td>\n",
       "      <td>181500</td>\n",
       "    </tr>\n",
       "    <tr>\n",
       "      <th>2</th>\n",
       "      <td>3</td>\n",
       "      <td>60</td>\n",
       "      <td>RL</td>\n",
       "      <td>68.0</td>\n",
       "      <td>11250</td>\n",
       "      <td>Pave</td>\n",
       "      <td>NaN</td>\n",
       "      <td>IR1</td>\n",
       "      <td>Lvl</td>\n",
       "      <td>AllPub</td>\n",
       "      <td>...</td>\n",
       "      <td>0</td>\n",
       "      <td>NaN</td>\n",
       "      <td>NaN</td>\n",
       "      <td>NaN</td>\n",
       "      <td>0</td>\n",
       "      <td>9</td>\n",
       "      <td>2008</td>\n",
       "      <td>WD</td>\n",
       "      <td>Normal</td>\n",
       "      <td>223500</td>\n",
       "    </tr>\n",
       "    <tr>\n",
       "      <th>3</th>\n",
       "      <td>4</td>\n",
       "      <td>70</td>\n",
       "      <td>RL</td>\n",
       "      <td>60.0</td>\n",
       "      <td>9550</td>\n",
       "      <td>Pave</td>\n",
       "      <td>NaN</td>\n",
       "      <td>IR1</td>\n",
       "      <td>Lvl</td>\n",
       "      <td>AllPub</td>\n",
       "      <td>...</td>\n",
       "      <td>0</td>\n",
       "      <td>NaN</td>\n",
       "      <td>NaN</td>\n",
       "      <td>NaN</td>\n",
       "      <td>0</td>\n",
       "      <td>2</td>\n",
       "      <td>2006</td>\n",
       "      <td>WD</td>\n",
       "      <td>Abnorml</td>\n",
       "      <td>140000</td>\n",
       "    </tr>\n",
       "    <tr>\n",
       "      <th>4</th>\n",
       "      <td>5</td>\n",
       "      <td>60</td>\n",
       "      <td>RL</td>\n",
       "      <td>84.0</td>\n",
       "      <td>14260</td>\n",
       "      <td>Pave</td>\n",
       "      <td>NaN</td>\n",
       "      <td>IR1</td>\n",
       "      <td>Lvl</td>\n",
       "      <td>AllPub</td>\n",
       "      <td>...</td>\n",
       "      <td>0</td>\n",
       "      <td>NaN</td>\n",
       "      <td>NaN</td>\n",
       "      <td>NaN</td>\n",
       "      <td>0</td>\n",
       "      <td>12</td>\n",
       "      <td>2008</td>\n",
       "      <td>WD</td>\n",
       "      <td>Normal</td>\n",
       "      <td>250000</td>\n",
       "    </tr>\n",
       "    <tr>\n",
       "      <th>...</th>\n",
       "      <td>...</td>\n",
       "      <td>...</td>\n",
       "      <td>...</td>\n",
       "      <td>...</td>\n",
       "      <td>...</td>\n",
       "      <td>...</td>\n",
       "      <td>...</td>\n",
       "      <td>...</td>\n",
       "      <td>...</td>\n",
       "      <td>...</td>\n",
       "      <td>...</td>\n",
       "      <td>...</td>\n",
       "      <td>...</td>\n",
       "      <td>...</td>\n",
       "      <td>...</td>\n",
       "      <td>...</td>\n",
       "      <td>...</td>\n",
       "      <td>...</td>\n",
       "      <td>...</td>\n",
       "      <td>...</td>\n",
       "      <td>...</td>\n",
       "    </tr>\n",
       "    <tr>\n",
       "      <th>1455</th>\n",
       "      <td>1456</td>\n",
       "      <td>60</td>\n",
       "      <td>RL</td>\n",
       "      <td>62.0</td>\n",
       "      <td>7917</td>\n",
       "      <td>Pave</td>\n",
       "      <td>NaN</td>\n",
       "      <td>Reg</td>\n",
       "      <td>Lvl</td>\n",
       "      <td>AllPub</td>\n",
       "      <td>...</td>\n",
       "      <td>0</td>\n",
       "      <td>NaN</td>\n",
       "      <td>NaN</td>\n",
       "      <td>NaN</td>\n",
       "      <td>0</td>\n",
       "      <td>8</td>\n",
       "      <td>2007</td>\n",
       "      <td>WD</td>\n",
       "      <td>Normal</td>\n",
       "      <td>175000</td>\n",
       "    </tr>\n",
       "    <tr>\n",
       "      <th>1456</th>\n",
       "      <td>1457</td>\n",
       "      <td>20</td>\n",
       "      <td>RL</td>\n",
       "      <td>85.0</td>\n",
       "      <td>13175</td>\n",
       "      <td>Pave</td>\n",
       "      <td>NaN</td>\n",
       "      <td>Reg</td>\n",
       "      <td>Lvl</td>\n",
       "      <td>AllPub</td>\n",
       "      <td>...</td>\n",
       "      <td>0</td>\n",
       "      <td>NaN</td>\n",
       "      <td>MnPrv</td>\n",
       "      <td>NaN</td>\n",
       "      <td>0</td>\n",
       "      <td>2</td>\n",
       "      <td>2010</td>\n",
       "      <td>WD</td>\n",
       "      <td>Normal</td>\n",
       "      <td>210000</td>\n",
       "    </tr>\n",
       "    <tr>\n",
       "      <th>1457</th>\n",
       "      <td>1458</td>\n",
       "      <td>70</td>\n",
       "      <td>RL</td>\n",
       "      <td>66.0</td>\n",
       "      <td>9042</td>\n",
       "      <td>Pave</td>\n",
       "      <td>NaN</td>\n",
       "      <td>Reg</td>\n",
       "      <td>Lvl</td>\n",
       "      <td>AllPub</td>\n",
       "      <td>...</td>\n",
       "      <td>0</td>\n",
       "      <td>NaN</td>\n",
       "      <td>GdPrv</td>\n",
       "      <td>Shed</td>\n",
       "      <td>2500</td>\n",
       "      <td>5</td>\n",
       "      <td>2010</td>\n",
       "      <td>WD</td>\n",
       "      <td>Normal</td>\n",
       "      <td>266500</td>\n",
       "    </tr>\n",
       "    <tr>\n",
       "      <th>1458</th>\n",
       "      <td>1459</td>\n",
       "      <td>20</td>\n",
       "      <td>RL</td>\n",
       "      <td>68.0</td>\n",
       "      <td>9717</td>\n",
       "      <td>Pave</td>\n",
       "      <td>NaN</td>\n",
       "      <td>Reg</td>\n",
       "      <td>Lvl</td>\n",
       "      <td>AllPub</td>\n",
       "      <td>...</td>\n",
       "      <td>0</td>\n",
       "      <td>NaN</td>\n",
       "      <td>NaN</td>\n",
       "      <td>NaN</td>\n",
       "      <td>0</td>\n",
       "      <td>4</td>\n",
       "      <td>2010</td>\n",
       "      <td>WD</td>\n",
       "      <td>Normal</td>\n",
       "      <td>142125</td>\n",
       "    </tr>\n",
       "    <tr>\n",
       "      <th>1459</th>\n",
       "      <td>1460</td>\n",
       "      <td>20</td>\n",
       "      <td>RL</td>\n",
       "      <td>75.0</td>\n",
       "      <td>9937</td>\n",
       "      <td>Pave</td>\n",
       "      <td>NaN</td>\n",
       "      <td>Reg</td>\n",
       "      <td>Lvl</td>\n",
       "      <td>AllPub</td>\n",
       "      <td>...</td>\n",
       "      <td>0</td>\n",
       "      <td>NaN</td>\n",
       "      <td>NaN</td>\n",
       "      <td>NaN</td>\n",
       "      <td>0</td>\n",
       "      <td>6</td>\n",
       "      <td>2008</td>\n",
       "      <td>WD</td>\n",
       "      <td>Normal</td>\n",
       "      <td>147500</td>\n",
       "    </tr>\n",
       "  </tbody>\n",
       "</table>\n",
       "<p>1460 rows × 81 columns</p>\n",
       "</div>"
      ],
      "text/plain": [
       "        Id  MSSubClass MSZoning  LotFrontage  LotArea Street Alley LotShape  \\\n",
       "0        1          60       RL         65.0     8450   Pave   NaN      Reg   \n",
       "1        2          20       RL         80.0     9600   Pave   NaN      Reg   \n",
       "2        3          60       RL         68.0    11250   Pave   NaN      IR1   \n",
       "3        4          70       RL         60.0     9550   Pave   NaN      IR1   \n",
       "4        5          60       RL         84.0    14260   Pave   NaN      IR1   \n",
       "...    ...         ...      ...          ...      ...    ...   ...      ...   \n",
       "1455  1456          60       RL         62.0     7917   Pave   NaN      Reg   \n",
       "1456  1457          20       RL         85.0    13175   Pave   NaN      Reg   \n",
       "1457  1458          70       RL         66.0     9042   Pave   NaN      Reg   \n",
       "1458  1459          20       RL         68.0     9717   Pave   NaN      Reg   \n",
       "1459  1460          20       RL         75.0     9937   Pave   NaN      Reg   \n",
       "\n",
       "     LandContour Utilities  ... PoolArea PoolQC  Fence MiscFeature MiscVal  \\\n",
       "0            Lvl    AllPub  ...        0    NaN    NaN         NaN       0   \n",
       "1            Lvl    AllPub  ...        0    NaN    NaN         NaN       0   \n",
       "2            Lvl    AllPub  ...        0    NaN    NaN         NaN       0   \n",
       "3            Lvl    AllPub  ...        0    NaN    NaN         NaN       0   \n",
       "4            Lvl    AllPub  ...        0    NaN    NaN         NaN       0   \n",
       "...          ...       ...  ...      ...    ...    ...         ...     ...   \n",
       "1455         Lvl    AllPub  ...        0    NaN    NaN         NaN       0   \n",
       "1456         Lvl    AllPub  ...        0    NaN  MnPrv         NaN       0   \n",
       "1457         Lvl    AllPub  ...        0    NaN  GdPrv        Shed    2500   \n",
       "1458         Lvl    AllPub  ...        0    NaN    NaN         NaN       0   \n",
       "1459         Lvl    AllPub  ...        0    NaN    NaN         NaN       0   \n",
       "\n",
       "     MoSold YrSold  SaleType  SaleCondition  SalePrice  \n",
       "0         2   2008        WD         Normal     208500  \n",
       "1         5   2007        WD         Normal     181500  \n",
       "2         9   2008        WD         Normal     223500  \n",
       "3         2   2006        WD        Abnorml     140000  \n",
       "4        12   2008        WD         Normal     250000  \n",
       "...     ...    ...       ...            ...        ...  \n",
       "1455      8   2007        WD         Normal     175000  \n",
       "1456      2   2010        WD         Normal     210000  \n",
       "1457      5   2010        WD         Normal     266500  \n",
       "1458      4   2010        WD         Normal     142125  \n",
       "1459      6   2008        WD         Normal     147500  \n",
       "\n",
       "[1460 rows x 81 columns]"
      ]
     },
     "metadata": {},
     "output_type": "display_data"
    }
   ],
   "source": [
    "train = pd.read_csv(\"train.csv\")\n",
    "test = pd.read_csv(\"test.csv\")\n",
    "display(train)"
   ]
  },
  {
   "cell_type": "code",
   "execution_count": 199,
   "metadata": {},
   "outputs": [],
   "source": [
    "train.isna().sum()\n",
    "train.fillna(0, inplace=True)"
   ]
  },
  {
   "attachments": {},
   "cell_type": "markdown",
   "metadata": {},
   "source": [
    "<h2 style=\"color:#f7ce5b; font-family: Arial, sans-serif; font-size: 40px; margin-top: 50px; border-bottom: 2px solid #f7ce5b;\">\n",
    "One Hot Encoding\n",
    "</h2>"
   ]
  },
  {
   "attachments": {},
   "cell_type": "markdown",
   "metadata": {},
   "source": [
    "<h3 style=\"color:#c38d9e; font-family: Arial, sans-serif; font-size: 24px; margin-top: 40px; text-align: center;\">\n",
    "MSZoning\n",
    "</h3>"
   ]
  },
  {
   "cell_type": "code",
   "execution_count": 200,
   "metadata": {},
   "outputs": [],
   "source": [
    "MSZones = ['A', 'C', 'FV', 'I', 'RH', 'RL', 'RP', 'RM']\n",
    "for zone in MSZones : \n",
    "    train[f'MSZoning_{zone}'] = train.apply(lambda x: 1 if x['MSZoning'] == f'{zone}' else 0, axis = 1)\n",
    "    test[f'MSZoning_{zone}'] = test.apply(lambda x: 1 if x['MSZoning'] == f'{zone}' else 0, axis = 1)\n",
    "train = train.drop('MSZoning', axis=1)\n",
    "test = test.drop('MSZoning', axis= 1)"
   ]
  },
  {
   "attachments": {},
   "cell_type": "markdown",
   "metadata": {},
   "source": [
    "<h3 style=\"color:#c38d9e; font-family: Arial, sans-serif; font-size: 24px; margin-top: 40px; text-align: center;\">\n",
    "Street\n",
    "</h3>"
   ]
  },
  {
   "cell_type": "code",
   "execution_count": 201,
   "metadata": {},
   "outputs": [],
   "source": [
    "Street = ['Grvl', 'Pave']\n",
    "for str in Street : \n",
    "    train[f'Street_{str}'] = train.apply(lambda x: 1 if x['Street'] == f'{str}' else 0, axis = 1)\n",
    "    test[f'Street_{str}'] = test.apply(lambda x: 1 if x['Street'] == f'{str}' else 0, axis = 1)\n",
    "train = train.drop('Street', axis=1)\n",
    "test = test.drop('Street', axis= 1)"
   ]
  },
  {
   "attachments": {},
   "cell_type": "markdown",
   "metadata": {},
   "source": [
    "<h3 style=\"color:#c38d9e; font-family: Arial, sans-serif; font-size: 24px; margin-top: 40px; text-align: center;\">\n",
    "Alley\n",
    "</h3>"
   ]
  },
  {
   "cell_type": "code",
   "execution_count": 202,
   "metadata": {},
   "outputs": [],
   "source": [
    "Alley = ['Grvl', 'Pave', 'NA']\n",
    "for all in Alley : \n",
    "    train[f'Alley_{all}'] = train.apply(lambda x: 1 if x['Alley'] == f'{all}' else 0, axis = 1)\n",
    "    test[f'Alley_{all}'] = test.apply(lambda x: 1 if x['Alley'] == f'{all}' else 0, axis = 1)\n",
    "train = train.drop('Alley', axis=1)\n",
    "test = test.drop('Alley', axis= 1)"
   ]
  },
  {
   "attachments": {},
   "cell_type": "markdown",
   "metadata": {},
   "source": [
    "<h3 style=\"color:#c38d9e; font-family: Arial, sans-serif; font-size: 24px; margin-top: 40px; text-align: center;\">\n",
    "LotShape\n",
    "</h3>"
   ]
  },
  {
   "cell_type": "code",
   "execution_count": 203,
   "metadata": {},
   "outputs": [],
   "source": [
    "LotShape = ['Reg', 'IR1', 'IR2', 'IR3']\n",
    "for shape in LotShape :\n",
    "    train[f'LotShape_{shape}'] = train.apply(lambda x: 1 if x['LotShape'] == f'{shape}' else 0, axis = 1)\n",
    "    test[f'LotShape_{shape}'] = test.apply(lambda x: 1 if x['LotShape'] == f'{shape}' else 0, axis = 1)\n",
    "train = train.drop('LotShape', axis=1)\n",
    "test = test.drop('LotShape', axis= 1)"
   ]
  },
  {
   "attachments": {},
   "cell_type": "markdown",
   "metadata": {},
   "source": [
    "<h3 style=\"color:#c38d9e; font-family: Arial, sans-serif; font-size: 24px; margin-top: 40px; text-align: center;\">\n",
    "LandCountour\n",
    "</h3>"
   ]
  },
  {
   "cell_type": "code",
   "execution_count": 204,
   "metadata": {},
   "outputs": [],
   "source": [
    "LandContour = ['Lvl', 'Bnk', 'HLS', 'Low']\n",
    "for contour in LandContour :\n",
    "    train[f'LandContour_{contour}'] = train.apply(lambda x: 1 if x['LandContour'] == f'{contour}' else 0, axis = 1)\n",
    "    test[f'LandContour_{contour}'] = test.apply(lambda x: 1 if x['LandContour'] == f'{contour}' else 0, axis = 1)\n",
    "train = train.drop('LandContour', axis=1)\n",
    "test = test.drop('LandContour', axis= 1)"
   ]
  },
  {
   "attachments": {},
   "cell_type": "markdown",
   "metadata": {},
   "source": [
    "<h3 style=\"color:#c38d9e; font-family: Arial, sans-serif; font-size: 24px; margin-top: 40px; text-align: center;\">\n",
    "Utilities\n",
    "</h3>"
   ]
  },
  {
   "cell_type": "code",
   "execution_count": 205,
   "metadata": {},
   "outputs": [],
   "source": [
    "Utilities = ['AllPub', 'NoSewr', 'NoSeWa', 'ELO']\n",
    "for util in Utilities :\n",
    "    train[f'Utilities_{util}'] = train.apply(lambda x: 1 if x['Utilities'] == f'{util}' else 0, axis = 1)\n",
    "    test[f'Utilities_{util}'] = test.apply(lambda x: 1 if x['Utilities'] == f'{util}' else 0, axis = 1)\n",
    "train = train.drop('Utilities', axis=1)\n",
    "test = test.drop('Utilities', axis= 1)"
   ]
  },
  {
   "attachments": {},
   "cell_type": "markdown",
   "metadata": {},
   "source": [
    "<h3 style=\"color:#c38d9e; font-family: Arial, sans-serif; font-size: 24px; margin-top: 40px; text-align: center;\">\n",
    "LotConfig\n",
    "</h3>"
   ]
  },
  {
   "cell_type": "code",
   "execution_count": 206,
   "metadata": {},
   "outputs": [],
   "source": [
    "LotConfig = ['Inside', 'Corner', 'CulDSac', 'FR2', 'FR3']\n",
    "for config in LotConfig :\n",
    "    train[f'LotConfig_{config}'] = train.apply(lambda x: 1 if x['LotConfig'] == f'{config}' else 0, axis = 1)\n",
    "    test[f'LotConfig_{config}'] = test.apply(lambda x: 1 if x['LotConfig'] == f'{config}' else 0, axis = 1)\n",
    "train = train.drop('LotConfig', axis=1)\n",
    "test = test.drop('LotConfig', axis= 1)"
   ]
  },
  {
   "attachments": {},
   "cell_type": "markdown",
   "metadata": {},
   "source": [
    "<h3 style=\"color:#c38d9e; font-family: Arial, sans-serif; font-size: 24px; margin-top: 40px; text-align: center;\">\n",
    "Neighborhood\n",
    "</h3>"
   ]
  },
  {
   "cell_type": "code",
   "execution_count": 207,
   "metadata": {},
   "outputs": [],
   "source": [
    "Neighborhood = ['Blmngtn', 'Blueste', 'BrDale', 'BrkSide', 'ClearCr', 'CollgCr', 'Crawfor', 'Edwards', 'Gilbert', 'IDOTRR', 'MeadowV', 'Mitchel', 'Names', 'NoRidge', 'NPkVill', 'NridgHt', 'NWAmes', 'OldTown', 'SWISU', 'Sawyer', 'SawyerW', 'Somerst', 'StoneBr', 'Timber', 'Veenker']\n",
    "for all in Neighborhood : \n",
    "    train[f'Neighborhood_{all}'] = train.apply(lambda x: 1 if x['Neighborhood'] == f'{all}' else 0, axis = 1)\n",
    "    test[f'Neighborhood_{all}'] = test.apply(lambda x: 1 if x['Neighborhood'] == f'{all}' else 0, axis = 1)\n",
    "train = train.drop('Neighborhood', axis=1)\n",
    "test = test.drop('Neighborhood', axis= 1)"
   ]
  },
  {
   "attachments": {},
   "cell_type": "markdown",
   "metadata": {},
   "source": [
    "<h3 style=\"color:#c38d9e; font-family: Arial, sans-serif; font-size: 24px; margin-top: 40px; text-align: center;\">\n",
    "LandSlope\n",
    "</h3>"
   ]
  },
  {
   "cell_type": "code",
   "execution_count": 208,
   "metadata": {},
   "outputs": [],
   "source": [
    "LandSlope = ['Gtl', 'Mod', 'Sev']\n",
    "for all in LandSlope : \n",
    "    train[f'LandSlope_{all}'] = train.apply(lambda x: 1 if x['LandSlope'] == f'{all}' else 0, axis = 1)\n",
    "    test[f'LandSlope_{all}'] = test.apply(lambda x: 1 if x['LandSlope'] == f'{all}' else 0, axis = 1)\n",
    "train = train.drop('LandSlope', axis=1)\n",
    "test = test.drop('LandSlope', axis= 1)"
   ]
  },
  {
   "attachments": {},
   "cell_type": "markdown",
   "metadata": {},
   "source": [
    "<h3 style=\"color:#c38d9e; font-family: Arial, sans-serif; font-size: 24px; margin-top: 40px; text-align: center;\">\n",
    "Condition1\n",
    "</h3>"
   ]
  },
  {
   "cell_type": "code",
   "execution_count": 209,
   "metadata": {},
   "outputs": [],
   "source": [
    "for cond in ['Artery', 'Feedr', 'Norm', 'RRNn', 'RRAn', 'PosN', 'PosA', 'RRNe', 'RRAe']:\n",
    "    train[f'Condition1_{cond}'] = train.apply(lambda x: 1 if x['Condition1'] == f'{cond}' else 0, axis=1)\n",
    "    test[f'Condition1_{cond}'] = test.apply(lambda x: 1 if x['Condition1'] == f'{cond}' else 0, axis=1)\n",
    "train = train.drop('Condition1', axis=1)\n",
    "test = test.drop('Condition1', axis=1)"
   ]
  },
  {
   "attachments": {},
   "cell_type": "markdown",
   "metadata": {},
   "source": [
    "<h3 style=\"color:#c38d9e; font-family: Arial, sans-serif; font-size: 24px; margin-top: 40px; text-align: center;\">\n",
    "Condition2\n",
    "</h3>"
   ]
  },
  {
   "cell_type": "code",
   "execution_count": 210,
   "metadata": {},
   "outputs": [],
   "source": [
    "for cond in ['Artery', 'Feedr', 'Norm', 'RRNn', 'RRAn', 'PosN', 'PosA', 'RRNe', 'RRAe']:\n",
    "    train[f'Condition2_{cond}'] = train.apply(lambda x: 1 if x['Condition2'] == f'{cond}' else 0, axis=1)\n",
    "    test[f'Condition2_{cond}'] = test.apply(lambda x: 1 if x['Condition2'] == f'{cond}' else 0, axis=1)\n",
    "train = train.drop('Condition2', axis=1)\n",
    "test = test.drop('Condition2', axis=1)"
   ]
  },
  {
   "attachments": {},
   "cell_type": "markdown",
   "metadata": {},
   "source": [
    "<h3 style=\"color:#c38d9e; font-family: Arial, sans-serif; font-size: 24px; margin-top: 40px; text-align: center;\">\n",
    "BldgType\n",
    "</h3>"
   ]
  },
  {
   "cell_type": "code",
   "execution_count": 211,
   "metadata": {},
   "outputs": [],
   "source": [
    "for all in ['1Fam', '2FmCon', 'Duplex', 'TwnhsE', 'TwnhsI']:\n",
    "    train[f'BldgType_{all}'] = train.apply(lambda x: 1 if x['BldgType'] == f'{all}' else 0, axis = 1)\n",
    "    test[f'BldgType_{all}'] = test.apply(lambda x: 1 if x['BldgType'] == f'{all}' else 0, axis = 1)\n",
    "train = train.drop('BldgType', axis=1)\n",
    "test = test.drop('BldgType', axis= 1)"
   ]
  },
  {
   "attachments": {},
   "cell_type": "markdown",
   "metadata": {},
   "source": [
    "<h3 style=\"color:#c38d9e; font-family: Arial, sans-serif; font-size: 24px; margin-top: 40px; text-align: center;\">\n",
    "HouseStyle\n",
    "</h3>"
   ]
  },
  {
   "cell_type": "code",
   "execution_count": 212,
   "metadata": {},
   "outputs": [],
   "source": [
    "for all in ['1Story', '1.5Fin', '1.5Unf', '2Story', '2.5Fin', '2.5Unf', 'SFoyer', 'SLvl']:\n",
    "    train[f'HouseStyle_{all}'] = train.apply(lambda x: 1 if x['HouseStyle'] == f'{all}' else 0, axis = 1)\n",
    "    test[f'HouseStyle_{all}'] = test.apply(lambda x: 1 if x['HouseStyle'] == f'{all}' else 0, axis = 1)\n",
    "train = train.drop('HouseStyle', axis=1)\n",
    "test = test.drop('HouseStyle', axis= 1)"
   ]
  },
  {
   "attachments": {},
   "cell_type": "markdown",
   "metadata": {},
   "source": [
    "<h3 style=\"color:#c38d9e; font-family: Arial, sans-serif; font-size: 24px; margin-top: 40px; text-align: center;\">\n",
    "RoofStyle\n",
    "</h3>"
   ]
  },
  {
   "cell_type": "code",
   "execution_count": 213,
   "metadata": {},
   "outputs": [],
   "source": [
    "for all in train['RoofStyle'].unique() :\n",
    "    train[f'RoofStyle_{all}'] = train.apply(lambda x: 1 if x['RoofStyle'] == all else 0, axis = 1)\n",
    "    test[f'RoofStyle_{all}'] = test.apply(lambda x: 1 if x['RoofStyle'] == all else 0, axis = 1)\n",
    "train = train.drop('RoofStyle', axis=1)\n",
    "test = test.drop('RoofStyle', axis=1)"
   ]
  },
  {
   "attachments": {},
   "cell_type": "markdown",
   "metadata": {},
   "source": [
    "<h3 style=\"color:#c38d9e; font-family: Arial, sans-serif; font-size: 24px; margin-top: 40px; text-align: center;\">\n",
    "RoofMatl\n",
    "</h3>"
   ]
  },
  {
   "cell_type": "code",
   "execution_count": 214,
   "metadata": {},
   "outputs": [],
   "source": [
    "for all in train['RoofMatl'].unique() :\n",
    "    train[f'RoofMatl_{all}'] = train.apply(lambda x: 1 if x['RoofMatl'] == all else 0, axis = 1)\n",
    "    test[f'RoofMatl_{all}'] = test.apply(lambda x: 1 if x['RoofMatl'] == all else 0, axis = 1)\n",
    "train = train.drop('RoofMatl', axis=1)\n",
    "test = test.drop('RoofMatl', axis=1)"
   ]
  },
  {
   "attachments": {},
   "cell_type": "markdown",
   "metadata": {},
   "source": [
    "<h3 style=\"color:#c38d9e; font-family: Arial, sans-serif; font-size: 24px; margin-top: 40px; text-align: center;\">\n",
    "Exterior1st\n",
    "</h3>"
   ]
  },
  {
   "cell_type": "code",
   "execution_count": 215,
   "metadata": {},
   "outputs": [],
   "source": [
    "for all in train['Exterior1st'].unique() :\n",
    "    train[f'Exterior1st_{all}'] = train.apply(lambda x: 1 if x['Exterior1st'] == all else 0, axis = 1)\n",
    "    test[f'Exterior1st_{all}'] = test.apply(lambda x: 1 if x['Exterior1st'] == all else 0, axis = 1)\n",
    "train = train.drop('Exterior1st', axis=1)\n",
    "test = test.drop('Exterior1st', axis=1)"
   ]
  },
  {
   "attachments": {},
   "cell_type": "markdown",
   "metadata": {},
   "source": [
    "<h3 style=\"color:#c38d9e; font-family: Arial, sans-serif; font-size: 24px; margin-top: 40px; text-align: center;\">\n",
    "Exterior2nd\n",
    "</h3>"
   ]
  },
  {
   "cell_type": "code",
   "execution_count": 216,
   "metadata": {},
   "outputs": [],
   "source": [
    "for all in train['Exterior2nd'].unique() :\n",
    "    train[f'Exterior2nd_{all}'] = train.apply(lambda x: 1 if x['Exterior2nd'] == all else 0, axis = 1)\n",
    "    test[f'Exterior2nd_{all}'] = test.apply(lambda x: 1 if x['Exterior2nd'] == all else 0, axis = 1)\n",
    "train = train.drop('Exterior2nd', axis=1)\n",
    "test = test.drop('Exterior2nd', axis=1)"
   ]
  },
  {
   "attachments": {},
   "cell_type": "markdown",
   "metadata": {},
   "source": [
    "<h3 style=\"color:#c38d9e; font-family: Arial, sans-serif; font-size: 24px; margin-top: 40px; text-align: center;\">\n",
    "MasVnrType\n",
    "</h3>"
   ]
  },
  {
   "cell_type": "code",
   "execution_count": 217,
   "metadata": {},
   "outputs": [],
   "source": [
    "for all in train['MasVnrType'].unique() : \n",
    "    train[f'MasVnrType_{all}'] = train.apply(lambda x: 1 if x['MasVnrType'] == f'{all}' else 0, axis = 1)\n",
    "    test[f'MasVnrType_{all}'] = test.apply(lambda x: 1 if x['MasVnrType'] == f'{all}' else 0, axis = 1)\n",
    "train = train.drop('MasVnrType', axis=1)\n",
    "test = test.drop('MasVnrType', axis=1)"
   ]
  },
  {
   "attachments": {},
   "cell_type": "markdown",
   "metadata": {},
   "source": [
    "<h3 style=\"color:#c38d9e; font-family: Arial, sans-serif; font-size: 24px; margin-top: 40px; text-align: center;\">\n",
    "ExteriorQual\n",
    "</h3>"
   ]
  },
  {
   "cell_type": "code",
   "execution_count": 218,
   "metadata": {},
   "outputs": [],
   "source": [
    "train['ExterQual'] = train['ExterQual'].map({'Ex': 5, 'Gd': 4, 'TA': 3, 'Fa': 2, 'Po': 1})\n",
    "test['ExterQual'] = test['ExterQual'].map({'Ex': 5, 'Gd': 4, 'TA': 3, 'Fa': 2, 'Po': 1})"
   ]
  },
  {
   "attachments": {},
   "cell_type": "markdown",
   "metadata": {},
   "source": [
    "<h3 style=\"color:#c38d9e; font-family: Arial, sans-serif; font-size: 24px; margin-top: 40px; text-align: center;\">\n",
    "ExteriorCond\n",
    "</h3>"
   ]
  },
  {
   "cell_type": "code",
   "execution_count": 219,
   "metadata": {},
   "outputs": [],
   "source": [
    "train['ExterCond'] = train['ExterCond'].map({'Ex': 5, 'Gd': 4, 'TA': 3, 'Fa': 2, 'Po': 1})\n",
    "test['ExterCond'] = test['ExterCond'].map({'Ex': 5, 'Gd': 4, 'TA': 3, 'Fa': 2, 'Po': 1})"
   ]
  },
  {
   "attachments": {},
   "cell_type": "markdown",
   "metadata": {},
   "source": [
    "<h3 style=\"color:#c38d9e; font-family: Arial, sans-serif; font-size: 24px; margin-top: 40px; text-align: center;\">\n",
    "Foundation\n",
    "</h3>"
   ]
  },
  {
   "cell_type": "code",
   "execution_count": 220,
   "metadata": {},
   "outputs": [],
   "source": [
    "for all in train['Foundation'].unique() : \n",
    "    train[f'Foundation_{all}'] = train.apply(lambda x: 1 if x['Foundation'] == f'{all}' else 0, axis = 1)\n",
    "    test[f'Foundation_{all}'] = test.apply(lambda x: 1 if x['Foundation'] == f'{all}' else 0, axis = 1)\n",
    "train = train.drop('Foundation', axis=1)\n",
    "test = test.drop('Foundation', axis=1)"
   ]
  },
  {
   "attachments": {},
   "cell_type": "markdown",
   "metadata": {},
   "source": [
    "<h3 style=\"color:#c38d9e; font-family: Arial, sans-serif; font-size: 24px; margin-top: 40px; text-align: center;\">\n",
    "BsmtQual\n",
    "</h3>"
   ]
  },
  {
   "cell_type": "code",
   "execution_count": 221,
   "metadata": {},
   "outputs": [],
   "source": [
    "train['BsmtQual'] = train['BsmtQual'].map({'Ex': 5, 'Gd': 4, 'TA': 3, 'Fa': 2, 'Po': 1, 'Na' : 0})\n",
    "test['BsmtQual'] = test['BsmtQual'].map({'Ex': 5, 'Gd': 4, 'TA': 3, 'Fa': 2, 'Po': 1,'Na' : 0})"
   ]
  },
  {
   "attachments": {},
   "cell_type": "markdown",
   "metadata": {},
   "source": [
    "<h3 style=\"color:#c38d9e; font-family: Arial, sans-serif; font-size: 24px; margin-top: 40px; text-align: center;\">\n",
    "BsmtCond\n",
    "</h3>"
   ]
  },
  {
   "cell_type": "code",
   "execution_count": 222,
   "metadata": {},
   "outputs": [],
   "source": [
    "train['BsmtCond'] = train['BsmtCond'].map({'Ex': 5, 'Gd': 4, 'TA': 3, 'Fa': 2, 'Po': 1, 'Na' : 0})\n",
    "test['BsmtCond'] = test['BsmtCond'].map({'Ex': 5, 'Gd': 4, 'TA': 3, 'Fa': 2, 'Po': 1,'Na' : 0})"
   ]
  },
  {
   "attachments": {},
   "cell_type": "markdown",
   "metadata": {},
   "source": [
    "<h3 style=\"color:#c38d9e; font-family: Arial, sans-serif; font-size: 24px; margin-top: 40px; text-align: center;\">\n",
    "BsmtCond\n",
    "</h3>"
   ]
  },
  {
   "cell_type": "code",
   "execution_count": 223,
   "metadata": {},
   "outputs": [],
   "source": [
    "train['BsmtExposure'] = train['BsmtExposure'].map({ 'Gd': 4, 'TA': 3, 'Fa': 2, 'Po': 1, 'Na' : 0})\n",
    "test['BsmtExposure'] = test['BsmtExposure'].map({ 'Gd': 4, 'TA': 3, 'Fa': 2, 'Po': 1,'Na' : 0})"
   ]
  },
  {
   "attachments": {},
   "cell_type": "markdown",
   "metadata": {},
   "source": [
    "<h3 style=\"color:#c38d9e; font-family: Arial, sans-serif; font-size: 24px; margin-top: 40px; text-align: center;\">\n",
    "BsmtFinType1\n",
    "</h3>"
   ]
  },
  {
   "cell_type": "code",
   "execution_count": 224,
   "metadata": {},
   "outputs": [],
   "source": [
    "for all in train['BsmtFinType1'].unique() : \n",
    "    train[f'BsmtFinType1_{all}'] = train.apply(lambda x: 1 if x['BsmtFinType1'] == f'{all}' else 0, axis = 1)\n",
    "    test[f'BsmtFinType1_{all}'] = test.apply(lambda x: 1 if x['BsmtFinType1'] == f'{all}' else 0, axis = 1)\n",
    "train = train.drop('BsmtFinType1', axis=1)\n",
    "test = test.drop('BsmtFinType1', axis=1)"
   ]
  },
  {
   "attachments": {},
   "cell_type": "markdown",
   "metadata": {},
   "source": [
    "<h3 style=\"color:#c38d9e; font-family: Arial, sans-serif; font-size: 24px; margin-top: 40px; text-align: center;\">\n",
    "BsmtFinType2\n",
    "</h3>"
   ]
  },
  {
   "cell_type": "code",
   "execution_count": 225,
   "metadata": {},
   "outputs": [],
   "source": [
    "for all in train['BsmtFinType2'].unique() : \n",
    "    train[f'BsmtFinType2_{all}'] = train.apply(lambda x: 1 if x['BsmtFinType2'] == f'{all}' else 0, axis = 1)\n",
    "    test[f'BsmtFinType2_{all}'] = test.apply(lambda x: 1 if x['BsmtFinType2'] == f'{all}' else 0, axis = 1)\n",
    "train = train.drop('BsmtFinType2', axis=1)\n",
    "test = test.drop('BsmtFinType2', axis=1)"
   ]
  },
  {
   "attachments": {},
   "cell_type": "markdown",
   "metadata": {},
   "source": [
    "<h3 style=\"color:#c38d9e; font-family: Arial, sans-serif; font-size: 24px; margin-top: 40px; text-align: center;\">\n",
    "Heating\n",
    "</h3>"
   ]
  },
  {
   "cell_type": "code",
   "execution_count": 226,
   "metadata": {},
   "outputs": [],
   "source": [
    "for all in train['Heating'].unique() : \n",
    "    train[f'Heating_{all}'] = train.apply(lambda x: 1 if x['Heating'] == f'{all}' else 0, axis = 1)\n",
    "    test[f'Heating_{all}'] = test.apply(lambda x: 1 if x['Heating'] == f'{all}' else 0, axis = 1)\n",
    "train = train.drop('Heating', axis=1)\n",
    "test = test.drop('Heating', axis=1)"
   ]
  },
  {
   "attachments": {},
   "cell_type": "markdown",
   "metadata": {},
   "source": [
    "<h3 style=\"color:#c38d9e; font-family: Arial, sans-serif; font-size: 24px; margin-top: 40px; text-align: center;\">\n",
    "HeatingQC\n",
    "</h3>"
   ]
  },
  {
   "cell_type": "code",
   "execution_count": 227,
   "metadata": {},
   "outputs": [],
   "source": [
    "train['HeatingQC'] = train['HeatingQC'].map({'Ex': 5, 'Gd': 4, 'TA': 3, 'Fa': 2, 'Po': 1})\n",
    "test['HeatingQC'] = test['HeatingQC'].map({'Ex': 5, 'Gd': 4, 'TA': 3, 'Fa': 2, 'Po': 1})"
   ]
  },
  {
   "attachments": {},
   "cell_type": "markdown",
   "metadata": {},
   "source": [
    "<h3 style=\"color:#c38d9e; font-family: Arial, sans-serif; font-size: 24px; margin-top: 40px; text-align: center;\">\n",
    "CentralAir\n",
    "</h3>"
   ]
  },
  {
   "cell_type": "code",
   "execution_count": 228,
   "metadata": {},
   "outputs": [],
   "source": [
    "train['CentralAir'] = train['CentralAir'].map({'Y': 1, 'N': 0})\n",
    "test['CentralAir'] = test['CentralAir'].map({'Y': 1, 'N': 0})"
   ]
  },
  {
   "attachments": {},
   "cell_type": "markdown",
   "metadata": {},
   "source": [
    "<h3 style=\"color:#c38d9e; font-family: Arial, sans-serif; font-size: 24px; margin-top: 40px; text-align: center;\">\n",
    "Electrical\n",
    "</h3>"
   ]
  },
  {
   "cell_type": "code",
   "execution_count": 229,
   "metadata": {},
   "outputs": [],
   "source": [
    "for all in train['Electrical'].unique() : \n",
    "    train[f'Electrical_{all}'] = train.apply(lambda x: 1 if x['Electrical'] == f'{all}' else 0, axis = 1)\n",
    "    test[f'Electrical_{all}'] = test.apply(lambda x: 1 if x['Electrical'] == f'{all}' else 0, axis = 1)\n",
    "train = train.drop('Electrical', axis=1)\n",
    "test = test.drop('Electrical', axis=1)"
   ]
  },
  {
   "attachments": {},
   "cell_type": "markdown",
   "metadata": {},
   "source": [
    "<h3 style=\"color:#c38d9e; font-family: Arial, sans-serif; font-size: 24px; margin-top: 40px; text-align: center;\">\n",
    "KitchenQual\n",
    "</h3>"
   ]
  },
  {
   "cell_type": "code",
   "execution_count": 230,
   "metadata": {},
   "outputs": [],
   "source": [
    "train['KitchenQual'] = train['KitchenQual'].map({'Ex': 5, 'Gd': 4, 'TA': 3, 'Fa': 2, 'Po': 1})\n",
    "test['KitchenQual'] = test['KitchenQual'].map({'Ex': 5, 'Gd': 4, 'TA': 3, 'Fa': 2, 'Po': 1})"
   ]
  },
  {
   "attachments": {},
   "cell_type": "markdown",
   "metadata": {},
   "source": [
    "<h3 style=\"color:#c38d9e; font-family: Arial, sans-serif; font-size: 24px; margin-top: 40px; text-align: center;\">\n",
    "Functionnal\n",
    "</h3>"
   ]
  },
  {
   "cell_type": "code",
   "execution_count": 231,
   "metadata": {},
   "outputs": [],
   "source": [
    "for all in train['Functional'].unique() : \n",
    "    train[f'Functional_{all}'] = train.apply(lambda x: 1 if x['Functional'] == f'{all}' else 0, axis = 1)\n",
    "    test[f'Functional_{all}'] = test.apply(lambda x: 1 if x['Functional'] == f'{all}' else 0, axis = 1)\n",
    "train = train.drop('Functional', axis=1)\n",
    "test = test.drop('Functional', axis=1)"
   ]
  },
  {
   "attachments": {},
   "cell_type": "markdown",
   "metadata": {},
   "source": [
    "<h3 style=\"color:#c38d9e; font-family: Arial, sans-serif; font-size: 24px; margin-top: 40px; text-align: center;\">\n",
    "FirePlaceQual\n",
    "</h3>"
   ]
  },
  {
   "cell_type": "code",
   "execution_count": 232,
   "metadata": {},
   "outputs": [],
   "source": [
    "train['FireplaceQu'] = train['FireplaceQu'].map({'Ex': 5, 'Gd': 4, 'TA': 3, 'Fa': 2, 'Po': 1, 'Na' : 0})\n",
    "test['FireplaceQu'] = test['FireplaceQu'].map({'Ex': 5, 'Gd': 4, 'TA': 3, 'Fa': 2, 'Po': 1,'Na' : 0})"
   ]
  },
  {
   "attachments": {},
   "cell_type": "markdown",
   "metadata": {},
   "source": [
    "<h3 style=\"color:#c38d9e; font-family: Arial, sans-serif; font-size: 24px; margin-top: 40px; text-align: center;\">\n",
    "GarageType\n",
    "</h3>"
   ]
  },
  {
   "cell_type": "code",
   "execution_count": 233,
   "metadata": {},
   "outputs": [],
   "source": [
    "for all in train['GarageType'].unique() : \n",
    "    train[f'GarageType_{all}'] = train.apply(lambda x: 1 if x['GarageType'] == f'{all}' else 0, axis = 1)\n",
    "    test[f'GarageType_{all}'] = test.apply(lambda x: 1 if x['GarageType'] == f'{all}' else 0, axis = 1)\n",
    "train = train.drop('GarageType', axis=1)\n",
    "test = test.drop('GarageType', axis=1)"
   ]
  },
  {
   "attachments": {},
   "cell_type": "markdown",
   "metadata": {},
   "source": [
    "<h3 style=\"color:#c38d9e; font-family: Arial, sans-serif; font-size: 24px; margin-top: 40px; text-align: center;\">\n",
    "GarageFinish\n",
    "</h3>"
   ]
  },
  {
   "cell_type": "code",
   "execution_count": 234,
   "metadata": {},
   "outputs": [],
   "source": [
    "train['GarageFinish'] = train['GarageFinish'].map({ 'Fin': 3, 'RFn': 2, 'Unf': 1, 'Na' : 0})\n",
    "test['GarageFinish'] = test['GarageFinish'].map({ 'Fin': 3, 'RFn': 2, 'Unf': 1, 'Na' : 0})"
   ]
  },
  {
   "attachments": {},
   "cell_type": "markdown",
   "metadata": {},
   "source": [
    "<h3 style=\"color:#c38d9e; font-family: Arial, sans-serif; font-size: 24px; margin-top: 40px; text-align: center;\">\n",
    "GarageQual\n",
    "</h3>"
   ]
  },
  {
   "cell_type": "code",
   "execution_count": 235,
   "metadata": {},
   "outputs": [],
   "source": [
    "train['GarageQual'] = train['GarageQual'].map({'Ex': 5, 'Gd': 4, 'TA': 3, 'Fa': 2, 'Po': 1, 'Na' : 0})\n",
    "test['GarageQual'] = test['GarageQual'].map({'Ex': 5, 'Gd': 4, 'TA': 3, 'Fa': 2, 'Po': 1,'Na' : 0})"
   ]
  },
  {
   "attachments": {},
   "cell_type": "markdown",
   "metadata": {},
   "source": [
    "<h3 style=\"color:#c38d9e; font-family: Arial, sans-serif; font-size: 24px; margin-top: 40px; text-align: center;\">\n",
    "GarageCond\n",
    "</h3>"
   ]
  },
  {
   "cell_type": "code",
   "execution_count": 236,
   "metadata": {},
   "outputs": [],
   "source": [
    "train['GarageCond'] = train['GarageCond'].map({'Ex': 5, 'Gd': 4, 'TA': 3, 'Fa': 2, 'Po': 1, 'Na' : 0})\n",
    "test['GarageCond'] = test['GarageCond'].map({'Ex': 5, 'Gd': 4, 'TA': 3, 'Fa': 2, 'Po': 1,'Na' : 0})"
   ]
  },
  {
   "attachments": {},
   "cell_type": "markdown",
   "metadata": {},
   "source": [
    "<h3 style=\"color:#c38d9e; font-family: Arial, sans-serif; font-size: 24px; margin-top: 40px; text-align: center;\">\n",
    "PavedDrive\n",
    "</h3>"
   ]
  },
  {
   "cell_type": "code",
   "execution_count": 237,
   "metadata": {},
   "outputs": [],
   "source": [
    "for all in train['PavedDrive'].unique() : \n",
    "    train[f'PavedDrive_{all}'] = train.apply(lambda x: 1 if x['PavedDrive'] == f'{all}' else 0, axis = 1)\n",
    "    test[f'PavedDrive_{all}'] = test.apply(lambda x: 1 if x['PavedDrive'] == f'{all}' else 0, axis = 1)\n",
    "train = train.drop('PavedDrive', axis=1)\n",
    "test = test.drop('PavedDrive', axis=1)"
   ]
  },
  {
   "attachments": {},
   "cell_type": "markdown",
   "metadata": {},
   "source": [
    "<h3 style=\"color:#c38d9e; font-family: Arial, sans-serif; font-size: 24px; margin-top: 40px; text-align: center;\">\n",
    "PoolQc\n",
    "</h3>"
   ]
  },
  {
   "cell_type": "code",
   "execution_count": 238,
   "metadata": {},
   "outputs": [],
   "source": [
    "train['PoolQC'] = train['PoolQC'].map({'Ex': 4, 'Gd': 3, 'TA': 2, 'Fa': 1, 'Na' : 0})\n",
    "test['PoolQC'] = test['PoolQC'].map({'Ex': 4, 'Gd': 3, 'TA': 2, 'Fa': 1,'Na' : 0})"
   ]
  },
  {
   "attachments": {},
   "cell_type": "markdown",
   "metadata": {},
   "source": [
    "<h3 style=\"color:#c38d9e; font-family: Arial, sans-serif; font-size: 24px; margin-top: 40px; text-align: center;\">\n",
    "Fence\n",
    "</h3>"
   ]
  },
  {
   "cell_type": "code",
   "execution_count": 239,
   "metadata": {},
   "outputs": [],
   "source": [
    "train['Fence'] = train['Fence'].map({'GdPrv': 4, 'MnPrv': 3, 'GdWo': 2, 'MnWw': 1, 'Na' : 0})\n",
    "test['Fence'] = test['Fence'].map({'GdPrv': 4, 'MnPrv': 3, 'GdWo': 2, 'MnWw': 1, 'Na' : 0})"
   ]
  },
  {
   "attachments": {},
   "cell_type": "markdown",
   "metadata": {},
   "source": [
    "<h3 style=\"color:#c38d9e; font-family: Arial, sans-serif; font-size: 24px; margin-top: 40px; text-align: center;\">\n",
    "MiscFeature\n",
    "</h3>"
   ]
  },
  {
   "cell_type": "code",
   "execution_count": 240,
   "metadata": {},
   "outputs": [],
   "source": [
    "for all in train['MiscFeature'].unique() : \n",
    "    train[f'MiscFeature_{all}'] = train.apply(lambda x: 1 if x['MiscFeature'] == f'{all}' else 0, axis = 1)\n",
    "    test[f'MiscFeature_{all}'] = test.apply(lambda x: 1 if x['MiscFeature'] == f'{all}' else 0, axis = 1)\n",
    "train = train.drop('MiscFeature', axis=1)\n",
    "test = test.drop('MiscFeature', axis=1)"
   ]
  },
  {
   "attachments": {},
   "cell_type": "markdown",
   "metadata": {},
   "source": [
    "<h3 style=\"color:#c38d9e; font-family: Arial, sans-serif; font-size: 24px; margin-top: 40px; text-align: center;\">\n",
    "SaleType\n",
    "</h3>"
   ]
  },
  {
   "cell_type": "code",
   "execution_count": 241,
   "metadata": {},
   "outputs": [],
   "source": [
    "for all in train['SaleType'].unique() : \n",
    "    train[f'SaleType_{all}'] = train.apply(lambda x: 1 if x['SaleType'] == f'{all}' else 0, axis = 1)\n",
    "    test[f'SaleType_{all}'] = test.apply(lambda x: 1 if x['SaleType'] == f'{all}' else 0, axis = 1)\n",
    "train = train.drop('SaleType', axis=1)\n",
    "test = test.drop('SaleType', axis=1)"
   ]
  },
  {
   "attachments": {},
   "cell_type": "markdown",
   "metadata": {},
   "source": [
    "<h3 style=\"color:#c38d9e; font-family: Arial, sans-serif; font-size: 24px; margin-top: 40px; text-align: center;\">\n",
    "SaleCondition\n",
    "</h3>"
   ]
  },
  {
   "cell_type": "code",
   "execution_count": 242,
   "metadata": {},
   "outputs": [],
   "source": [
    "for all in train['SaleCondition'].unique() : \n",
    "    train[f'SaleCondition_{all}'] = train.apply(lambda x: 1 if x['SaleCondition'] == f'{all}' else 0, axis = 1)\n",
    "    test[f'SaleCondition_{all}'] = test.apply(lambda x: 1 if x['SaleCondition'] == f'{all}' else 0, axis = 1)\n",
    "train = train.drop('SaleCondition', axis=1)\n",
    "test = test.drop('SaleCondition', axis=1)"
   ]
  },
  {
   "attachments": {},
   "cell_type": "markdown",
   "metadata": {},
   "source": [
    "<h2 style=\"color:#f7ce5b; font-family: Arial, sans-serif; font-size: 40px; margin-top: 50px; border-bottom: 2px solid #f7ce5b;\">\n",
    "Test\n",
    "</h2>"
   ]
  },
  {
   "cell_type": "code",
   "execution_count": 243,
   "metadata": {},
   "outputs": [],
   "source": [
    "Y_train=train['SalePrice']\n",
    "\n",
    "X_train=train.drop(['SalePrice'],axis=1)\n",
    "\n",
    "X_test = test.copy()"
   ]
  },
  {
   "attachments": {},
   "cell_type": "markdown",
   "metadata": {},
   "source": [
    "Last check-up in oder to check up missing values"
   ]
  },
  {
   "cell_type": "code",
   "execution_count": 244,
   "metadata": {},
   "outputs": [
    {
     "name": "stdout",
     "output_type": "stream",
     "text": [
      "Index([], dtype='object')\n"
     ]
    }
   ],
   "source": [
    "string_cols = train.select_dtypes(include=['object'])\n",
    "\n",
    "# Afficher les colonnes sélectionnées\n",
    "print(string_cols.columns)"
   ]
  },
  {
   "cell_type": "code",
   "execution_count": 253,
   "metadata": {},
   "outputs": [
    {
     "name": "stdout",
     "output_type": "stream",
     "text": [
      "[]\n"
     ]
    }
   ],
   "source": [
    "# Calculer le nombre de valeurs manquantes par colonne\n",
    "na_counts = X_train.isna().sum()\n",
    "\n",
    "# Afficher les noms de colonnes qui ont des valeurs manquantes\n",
    "cols_with_na = na_counts[na_counts != 0].index.tolist()\n",
    "print(cols_with_na)"
   ]
  },
  {
   "cell_type": "code",
   "execution_count": 254,
   "metadata": {},
   "outputs": [
    {
     "name": "stdout",
     "output_type": "stream",
     "text": [
      "Empty DataFrame\n",
      "Columns: [Id, MSSubClass, LotFrontage, LotArea, OverallQual, OverallCond, YearBuilt, YearRemodAdd, MasVnrArea, ExterQual, ExterCond, BsmtQual, BsmtCond, BsmtExposure, BsmtFinSF1, BsmtFinSF2, BsmtUnfSF, TotalBsmtSF, HeatingQC, CentralAir, 1stFlrSF, 2ndFlrSF, LowQualFinSF, GrLivArea, BsmtFullBath, BsmtHalfBath, FullBath, HalfBath, BedroomAbvGr, KitchenAbvGr, KitchenQual, TotRmsAbvGrd, Fireplaces, FireplaceQu, GarageYrBlt, GarageFinish, GarageCars, GarageArea, GarageQual, GarageCond, WoodDeckSF, OpenPorchSF, EnclosedPorch, 3SsnPorch, ScreenPorch, PoolArea, PoolQC, Fence, MiscVal, MoSold, YrSold, MSZoning_A, MSZoning_C, MSZoning_FV, MSZoning_I, MSZoning_RH, MSZoning_RL, MSZoning_RP, MSZoning_RM, Street_Grvl, Street_Pave, Alley_Grvl, Alley_Pave, Alley_NA, LotShape_Reg, LotShape_IR1, LotShape_IR2, LotShape_IR3, LandContour_Lvl, LandContour_Bnk, LandContour_HLS, LandContour_Low, Utilities_AllPub, Utilities_NoSewr, Utilities_NoSeWa, Utilities_ELO, LotConfig_Inside, LotConfig_Corner, LotConfig_CulDSac, LotConfig_FR2, LotConfig_FR3, Neighborhood_Blmngtn, Neighborhood_Blueste, Neighborhood_BrDale, Neighborhood_BrkSide, Neighborhood_ClearCr, Neighborhood_CollgCr, Neighborhood_Crawfor, Neighborhood_Edwards, Neighborhood_Gilbert, Neighborhood_IDOTRR, Neighborhood_MeadowV, Neighborhood_Mitchel, Neighborhood_Names, Neighborhood_NoRidge, Neighborhood_NPkVill, Neighborhood_NridgHt, Neighborhood_NWAmes, Neighborhood_OldTown, Neighborhood_SWISU, ...]\n",
      "Index: []\n",
      "\n",
      "[0 rows x 259 columns]\n"
     ]
    }
   ],
   "source": [
    "na_rows = X_train[X_train[\"BsmtQual\"].isna()]\n",
    "\n",
    "# Afficher les lignes sélectionnées\n",
    "print(na_rows)"
   ]
  },
  {
   "cell_type": "code",
   "execution_count": 261,
   "metadata": {},
   "outputs": [],
   "source": [
    "X_train.fillna(0, inplace = True)\n",
    "X_test.fillna(0, inplace = True)"
   ]
  },
  {
   "cell_type": "code",
   "execution_count": 269,
   "metadata": {},
   "outputs": [],
   "source": [
    "from sklearn.linear_model import LinearRegression\n",
    "\n",
    "# Création d'une instance de LinearRegression\n",
    "lin_reg = LinearRegression()\n",
    "\n",
    "# Apprentissage sur les données d'entraînement\n",
    "lin_reg.fit(X_train, Y_train)\n",
    "\n",
    "# Prédiction sur les données de test\n",
    "Y_pred_lin_reg = lin_reg.predict(X_test)"
   ]
  },
  {
   "cell_type": "code",
   "execution_count": 271,
   "metadata": {},
   "outputs": [],
   "source": [
    "df_res_lr = pd.DataFrame(columns=[\"Id\", \"SalePrice\"])\n",
    "df_res_lr[\"Id\"] = test[\"Id\"]\n",
    "df_res_lr[\"SalePrice\"] = Y_pred_lin_reg\n",
    "\n",
    "df_res_lr.to_csv(\"result_lr.csv\", index=False)"
   ]
  },
  {
   "attachments": {},
   "cell_type": "markdown",
   "metadata": {},
   "source": [
    "<h2 style=\"color:#f7ce5b; font-family: Arial, sans-serif; font-size: 40px; margin-top: 50px; border-bottom: 2px solid #f7ce5b;\">\n",
    "Gradient Boosting\n",
    "</h2>"
   ]
  },
  {
   "cell_type": "code",
   "execution_count": 272,
   "metadata": {},
   "outputs": [],
   "source": [
    "from sklearn.ensemble import GradientBoostingRegressor\n",
    "from sklearn.metrics import mean_squared_error\n",
    "\n",
    "# Création d'un modèle Gradient Boosting avec les paramètres par défaut\n",
    "gb_model = GradientBoostingRegressor()\n",
    "\n",
    "# Entraînement du modèle sur les données d'entraînement\n",
    "gb_model.fit(X_train, Y_train)\n",
    "\n",
    "# Prédiction sur les données de test\n",
    "y_pred = gb_model.predict(X_test)"
   ]
  },
  {
   "cell_type": "code",
   "execution_count": 273,
   "metadata": {},
   "outputs": [],
   "source": [
    "df_res_gb = pd.DataFrame(columns=[\"Id\", \"SalePrice\"])\n",
    "df_res_gb[\"Id\"] = test[\"Id\"]\n",
    "df_res_gb[\"SalePrice\"] = y_pred\n",
    "\n",
    "df_res_gb.to_csv(\"result_gb.csv\", index=False)"
   ]
  },
  {
   "attachments": {},
   "cell_type": "markdown",
   "metadata": {},
   "source": [
    "<h2 style=\"color:#f7ce5b; font-family: Arial, sans-serif; font-size: 40px; margin-top: 50px; border-bottom: 2px solid #f7ce5b;\">\n",
    "Light Boosting\n",
    "</h2>"
   ]
  },
  {
   "cell_type": "code",
   "execution_count": 258,
   "metadata": {},
   "outputs": [
    {
     "name": "stdout",
     "output_type": "stream",
     "text": [
      "[LightGBM] [Warning] Found whitespace in feature_names, replace with underlines\n",
      "[LightGBM] [Warning] Auto-choosing row-wise multi-threading, the overhead of testing was 0.001169 seconds.\n",
      "You can set `force_row_wise=true` to remove the overhead.\n",
      "And if memory is not enough, you can set `force_col_wise=true`.\n",
      "[LightGBM] [Info] Total Bins 3783\n",
      "[LightGBM] [Info] Number of data points in the train set: 1460, number of used features: 204\n",
      "[LightGBM] [Info] Start training from score 180921.195890\n"
     ]
    }
   ],
   "source": [
    "import lightgbm as lgb\n",
    "from sklearn import datasets\n",
    "from sklearn import metrics\n",
    "\n",
    "lgb_train = lgb.Dataset(X_train, Y_train)\n",
    "\n",
    "params = {\n",
    "    'objective': 'regression',\n",
    "    'learning_rate': 0.1,\n",
    "    'num_leaves': 4,\n",
    "    'verbose': 1,\n",
    "    'min_data_in_leaf': 5,\n",
    "    'feature_fraction': 0.5,\n",
    "    'bagging_fraction': 0.5,\n",
    "    'bagging_freq': 1,\n",
    "    'metric': 'mse'\n",
    "}\n",
    "\n",
    "model_lgb = lgb.train(params, lgb_train, num_boost_round=100)\n",
    "res_lgb = model_lgb.predict(X_test)"
   ]
  },
  {
   "cell_type": "code",
   "execution_count": 268,
   "metadata": {},
   "outputs": [],
   "source": [
    "df_res_lgb = pd.DataFrame(columns=[\"Id\", \"SalePrice\"])\n",
    "df_res_lgb[\"Id\"] = test[\"Id\"]\n",
    "df_res_lgb[\"SalePrice\"] = res_lgb\n",
    "\n",
    "df_res_lgb.to_csv(\"result_lgb.csv\", index=False)"
   ]
  },
  {
   "attachments": {},
   "cell_type": "markdown",
   "metadata": {},
   "source": [
    "<h2 style=\"color:#f7ce5b; font-family: Arial, sans-serif; font-size: 40px; margin-top: 50px; border-bottom: 2px solid #f7ce5b;\">\n",
    "CAT Boosting\n",
    "</h2>"
   ]
  },
  {
   "cell_type": "code",
   "execution_count": 265,
   "metadata": {},
   "outputs": [
    {
     "name": "stdout",
     "output_type": "stream",
     "text": [
      "0:\tlearn: 6.4772865\ttotal: 3.09s\tremaining: 2m 31s\n",
      "1:\tlearn: 6.4576946\ttotal: 6.74s\tremaining: 2m 41s\n",
      "2:\tlearn: 6.4361488\ttotal: 10.6s\tremaining: 2m 46s\n",
      "3:\tlearn: 6.4170204\ttotal: 14s\tremaining: 2m 40s\n",
      "4:\tlearn: 6.3995997\ttotal: 17.6s\tremaining: 2m 37s\n",
      "5:\tlearn: 6.3787754\ttotal: 20.7s\tremaining: 2m 31s\n",
      "6:\tlearn: 6.3547626\ttotal: 23.5s\tremaining: 2m 24s\n",
      "7:\tlearn: 6.3329695\ttotal: 27.2s\tremaining: 2m 22s\n",
      "8:\tlearn: 6.3133457\ttotal: 31.7s\tremaining: 2m 24s\n",
      "9:\tlearn: 6.2937541\ttotal: 36.3s\tremaining: 2m 25s\n",
      "10:\tlearn: 6.2734199\ttotal: 41.6s\tremaining: 2m 27s\n",
      "11:\tlearn: 6.2506707\ttotal: 47.1s\tremaining: 2m 29s\n",
      "12:\tlearn: 6.2315775\ttotal: 52.9s\tremaining: 2m 30s\n",
      "13:\tlearn: 6.2073509\ttotal: 57.6s\tremaining: 2m 28s\n",
      "14:\tlearn: 6.1868286\ttotal: 1m 2s\tremaining: 2m 26s\n",
      "15:\tlearn: 6.1686580\ttotal: 1m 8s\tremaining: 2m 25s\n",
      "16:\tlearn: 6.1490174\ttotal: 1m 13s\tremaining: 2m 22s\n",
      "17:\tlearn: 6.1297666\ttotal: 1m 19s\tremaining: 2m 20s\n",
      "18:\tlearn: 6.1117450\ttotal: 1m 25s\tremaining: 2m 19s\n",
      "19:\tlearn: 6.0920588\ttotal: 1m 30s\tremaining: 2m 15s\n",
      "20:\tlearn: 6.0725762\ttotal: 1m 35s\tremaining: 2m 12s\n",
      "21:\tlearn: 6.0535594\ttotal: 1m 42s\tremaining: 2m 9s\n",
      "22:\tlearn: 6.0345069\ttotal: 1m 47s\tremaining: 2m 6s\n",
      "23:\tlearn: 6.0145415\ttotal: 1m 53s\tremaining: 2m 2s\n",
      "24:\tlearn: 5.9953809\ttotal: 2m\tremaining: 2m\n",
      "25:\tlearn: 5.9771366\ttotal: 2m 4s\tremaining: 1m 55s\n",
      "26:\tlearn: 5.9578029\ttotal: 2m 10s\tremaining: 1m 51s\n",
      "27:\tlearn: 5.9393833\ttotal: 2m 15s\tremaining: 1m 46s\n",
      "28:\tlearn: 5.9241556\ttotal: 2m 20s\tremaining: 1m 42s\n",
      "29:\tlearn: 5.9064732\ttotal: 2m 26s\tremaining: 1m 37s\n",
      "30:\tlearn: 5.8874558\ttotal: 2m 31s\tremaining: 1m 32s\n",
      "31:\tlearn: 5.8704382\ttotal: 2m 38s\tremaining: 1m 28s\n",
      "32:\tlearn: 5.8503892\ttotal: 2m 43s\tremaining: 1m 24s\n",
      "33:\tlearn: 5.8342960\ttotal: 2m 48s\tremaining: 1m 19s\n",
      "34:\tlearn: 5.8165799\ttotal: 2m 52s\tremaining: 1m 14s\n",
      "35:\tlearn: 5.8001745\ttotal: 2m 58s\tremaining: 1m 9s\n",
      "36:\tlearn: 5.7822775\ttotal: 3m 3s\tremaining: 1m 4s\n",
      "37:\tlearn: 5.7651285\ttotal: 3m 8s\tremaining: 59.6s\n",
      "38:\tlearn: 5.7488381\ttotal: 3m 14s\tremaining: 54.7s\n",
      "39:\tlearn: 5.7315999\ttotal: 3m 19s\tremaining: 49.9s\n",
      "40:\tlearn: 5.7138646\ttotal: 3m 24s\tremaining: 45s\n",
      "41:\tlearn: 5.6979846\ttotal: 3m 29s\tremaining: 40s\n",
      "42:\tlearn: 5.6819872\ttotal: 3m 34s\tremaining: 34.9s\n",
      "43:\tlearn: 5.6663618\ttotal: 3m 39s\tremaining: 30s\n",
      "44:\tlearn: 5.6512226\ttotal: 3m 44s\tremaining: 25s\n",
      "45:\tlearn: 5.6347588\ttotal: 3m 49s\tremaining: 20s\n",
      "46:\tlearn: 5.6182584\ttotal: 3m 54s\tremaining: 15s\n",
      "47:\tlearn: 5.6007973\ttotal: 4m\tremaining: 10s\n",
      "48:\tlearn: 5.5839994\ttotal: 4m 5s\tremaining: 5.02s\n",
      "49:\tlearn: 5.5663090\ttotal: 4m 10s\tremaining: 0us\n"
     ]
    }
   ],
   "source": [
    "from catboost import CatBoostClassifier\n",
    "model_catboost = CatBoostClassifier(iterations=50, learning_rate=0.05, depth=6, l2_leaf_reg=3)\n",
    "\n",
    "# entraînement du modèle sur les données d'entraînement\n",
    "model_catboost.fit(X_train, Y_train)\n",
    "\n",
    "# prédiction sur les données de test\n",
    "Y_pred = model_catboost.predict(X_test)"
   ]
  },
  {
   "cell_type": "code",
   "execution_count": 267,
   "metadata": {},
   "outputs": [],
   "source": [
    "df_res_cat = pd.DataFrame(columns=[\"Id\", \"SalePrice\"])\n",
    "df_res_cat[\"Id\"] = test[\"Id\"]\n",
    "df_res_cat[\"SalePrice\"] = Y_pred\n",
    "\n",
    "df_res_cat.to_csv(\"result_cat.csv\", index=False)"
   ]
  },
  {
   "attachments": {},
   "cell_type": "markdown",
   "metadata": {},
   "source": [
    "Catboost seems have the worst score here, Gradient Boosting is having the best score to predict those prices."
   ]
  }
 ],
 "metadata": {
  "kernelspec": {
   "display_name": "base",
   "language": "python",
   "name": "python3"
  },
  "language_info": {
   "codemirror_mode": {
    "name": "ipython",
    "version": 3
   },
   "file_extension": ".py",
   "mimetype": "text/x-python",
   "name": "python",
   "nbconvert_exporter": "python",
   "pygments_lexer": "ipython3",
   "version": "3.9.7"
  },
  "orig_nbformat": 4
 },
 "nbformat": 4,
 "nbformat_minor": 2
}
