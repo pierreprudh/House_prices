{
 "cells": [
  {
   "attachments": {},
   "cell_type": "markdown",
   "metadata": {},
   "source": [
    "<div style=\"background-image: linear-gradient(to right, #4b4cff , #00d4ff); text-align: center; padding: 50px;\">\n",
    "  <h1 style=\"font-family: 'Segoe UI', Tahoma, Geneva, Verdana, sans-serif; font-size: 48px; color: white; text-shadow: 2px 2px #4b4cff;\">\n",
    "  House Prices Prediction\n",
    "  </h1>\n",
    "</div>"
   ]
  },
  {
   "attachments": {},
   "cell_type": "markdown",
   "metadata": {},
   "source": [
    "<h2 style=\"color:#f7ce5b; font-family: Arial, sans-serif; font-size: 40px; margin-top: 50px; border-bottom: 2px solid #f7ce5b;\">\n",
    "Library\n",
    "</h2>"
   ]
  },
  {
   "cell_type": "code",
   "execution_count": 62,
   "metadata": {},
   "outputs": [],
   "source": [
    "import pandas as pd \n",
    "import numpy as np \n",
    "import matplotlib.pyplot as plt \n",
    "import seaborn as sns\n",
    "import sklearn\n",
    "from sklearn.preprocessing import LabelEncoder\n",
    "from sklearn.model_selection import train_test_split"
   ]
  },
  {
   "attachments": {},
   "cell_type": "markdown",
   "metadata": {},
   "source": [
    "<h2 style=\"color:#f7ce5b; font-family: Arial, sans-serif; font-size: 40px; margin-top: 50px; border-bottom: 2px solid #f7ce5b;\">\n",
    "Data\n",
    "</h2>"
   ]
  },
  {
   "cell_type": "code",
   "execution_count": 63,
   "metadata": {},
   "outputs": [
    {
     "data": {
      "text/html": [
       "<div>\n",
       "<style scoped>\n",
       "    .dataframe tbody tr th:only-of-type {\n",
       "        vertical-align: middle;\n",
       "    }\n",
       "\n",
       "    .dataframe tbody tr th {\n",
       "        vertical-align: top;\n",
       "    }\n",
       "\n",
       "    .dataframe thead th {\n",
       "        text-align: right;\n",
       "    }\n",
       "</style>\n",
       "<table border=\"1\" class=\"dataframe\">\n",
       "  <thead>\n",
       "    <tr style=\"text-align: right;\">\n",
       "      <th></th>\n",
       "      <th>Id</th>\n",
       "      <th>MSSubClass</th>\n",
       "      <th>MSZoning</th>\n",
       "      <th>LotFrontage</th>\n",
       "      <th>LotArea</th>\n",
       "      <th>Street</th>\n",
       "      <th>Alley</th>\n",
       "      <th>LotShape</th>\n",
       "      <th>LandContour</th>\n",
       "      <th>Utilities</th>\n",
       "      <th>...</th>\n",
       "      <th>PoolArea</th>\n",
       "      <th>PoolQC</th>\n",
       "      <th>Fence</th>\n",
       "      <th>MiscFeature</th>\n",
       "      <th>MiscVal</th>\n",
       "      <th>MoSold</th>\n",
       "      <th>YrSold</th>\n",
       "      <th>SaleType</th>\n",
       "      <th>SaleCondition</th>\n",
       "      <th>SalePrice</th>\n",
       "    </tr>\n",
       "  </thead>\n",
       "  <tbody>\n",
       "    <tr>\n",
       "      <th>0</th>\n",
       "      <td>1</td>\n",
       "      <td>60</td>\n",
       "      <td>RL</td>\n",
       "      <td>65.0</td>\n",
       "      <td>8450</td>\n",
       "      <td>Pave</td>\n",
       "      <td>NaN</td>\n",
       "      <td>Reg</td>\n",
       "      <td>Lvl</td>\n",
       "      <td>AllPub</td>\n",
       "      <td>...</td>\n",
       "      <td>0</td>\n",
       "      <td>NaN</td>\n",
       "      <td>NaN</td>\n",
       "      <td>NaN</td>\n",
       "      <td>0</td>\n",
       "      <td>2</td>\n",
       "      <td>2008</td>\n",
       "      <td>WD</td>\n",
       "      <td>Normal</td>\n",
       "      <td>208500</td>\n",
       "    </tr>\n",
       "    <tr>\n",
       "      <th>1</th>\n",
       "      <td>2</td>\n",
       "      <td>20</td>\n",
       "      <td>RL</td>\n",
       "      <td>80.0</td>\n",
       "      <td>9600</td>\n",
       "      <td>Pave</td>\n",
       "      <td>NaN</td>\n",
       "      <td>Reg</td>\n",
       "      <td>Lvl</td>\n",
       "      <td>AllPub</td>\n",
       "      <td>...</td>\n",
       "      <td>0</td>\n",
       "      <td>NaN</td>\n",
       "      <td>NaN</td>\n",
       "      <td>NaN</td>\n",
       "      <td>0</td>\n",
       "      <td>5</td>\n",
       "      <td>2007</td>\n",
       "      <td>WD</td>\n",
       "      <td>Normal</td>\n",
       "      <td>181500</td>\n",
       "    </tr>\n",
       "    <tr>\n",
       "      <th>2</th>\n",
       "      <td>3</td>\n",
       "      <td>60</td>\n",
       "      <td>RL</td>\n",
       "      <td>68.0</td>\n",
       "      <td>11250</td>\n",
       "      <td>Pave</td>\n",
       "      <td>NaN</td>\n",
       "      <td>IR1</td>\n",
       "      <td>Lvl</td>\n",
       "      <td>AllPub</td>\n",
       "      <td>...</td>\n",
       "      <td>0</td>\n",
       "      <td>NaN</td>\n",
       "      <td>NaN</td>\n",
       "      <td>NaN</td>\n",
       "      <td>0</td>\n",
       "      <td>9</td>\n",
       "      <td>2008</td>\n",
       "      <td>WD</td>\n",
       "      <td>Normal</td>\n",
       "      <td>223500</td>\n",
       "    </tr>\n",
       "    <tr>\n",
       "      <th>3</th>\n",
       "      <td>4</td>\n",
       "      <td>70</td>\n",
       "      <td>RL</td>\n",
       "      <td>60.0</td>\n",
       "      <td>9550</td>\n",
       "      <td>Pave</td>\n",
       "      <td>NaN</td>\n",
       "      <td>IR1</td>\n",
       "      <td>Lvl</td>\n",
       "      <td>AllPub</td>\n",
       "      <td>...</td>\n",
       "      <td>0</td>\n",
       "      <td>NaN</td>\n",
       "      <td>NaN</td>\n",
       "      <td>NaN</td>\n",
       "      <td>0</td>\n",
       "      <td>2</td>\n",
       "      <td>2006</td>\n",
       "      <td>WD</td>\n",
       "      <td>Abnorml</td>\n",
       "      <td>140000</td>\n",
       "    </tr>\n",
       "    <tr>\n",
       "      <th>4</th>\n",
       "      <td>5</td>\n",
       "      <td>60</td>\n",
       "      <td>RL</td>\n",
       "      <td>84.0</td>\n",
       "      <td>14260</td>\n",
       "      <td>Pave</td>\n",
       "      <td>NaN</td>\n",
       "      <td>IR1</td>\n",
       "      <td>Lvl</td>\n",
       "      <td>AllPub</td>\n",
       "      <td>...</td>\n",
       "      <td>0</td>\n",
       "      <td>NaN</td>\n",
       "      <td>NaN</td>\n",
       "      <td>NaN</td>\n",
       "      <td>0</td>\n",
       "      <td>12</td>\n",
       "      <td>2008</td>\n",
       "      <td>WD</td>\n",
       "      <td>Normal</td>\n",
       "      <td>250000</td>\n",
       "    </tr>\n",
       "    <tr>\n",
       "      <th>...</th>\n",
       "      <td>...</td>\n",
       "      <td>...</td>\n",
       "      <td>...</td>\n",
       "      <td>...</td>\n",
       "      <td>...</td>\n",
       "      <td>...</td>\n",
       "      <td>...</td>\n",
       "      <td>...</td>\n",
       "      <td>...</td>\n",
       "      <td>...</td>\n",
       "      <td>...</td>\n",
       "      <td>...</td>\n",
       "      <td>...</td>\n",
       "      <td>...</td>\n",
       "      <td>...</td>\n",
       "      <td>...</td>\n",
       "      <td>...</td>\n",
       "      <td>...</td>\n",
       "      <td>...</td>\n",
       "      <td>...</td>\n",
       "      <td>...</td>\n",
       "    </tr>\n",
       "    <tr>\n",
       "      <th>1455</th>\n",
       "      <td>1456</td>\n",
       "      <td>60</td>\n",
       "      <td>RL</td>\n",
       "      <td>62.0</td>\n",
       "      <td>7917</td>\n",
       "      <td>Pave</td>\n",
       "      <td>NaN</td>\n",
       "      <td>Reg</td>\n",
       "      <td>Lvl</td>\n",
       "      <td>AllPub</td>\n",
       "      <td>...</td>\n",
       "      <td>0</td>\n",
       "      <td>NaN</td>\n",
       "      <td>NaN</td>\n",
       "      <td>NaN</td>\n",
       "      <td>0</td>\n",
       "      <td>8</td>\n",
       "      <td>2007</td>\n",
       "      <td>WD</td>\n",
       "      <td>Normal</td>\n",
       "      <td>175000</td>\n",
       "    </tr>\n",
       "    <tr>\n",
       "      <th>1456</th>\n",
       "      <td>1457</td>\n",
       "      <td>20</td>\n",
       "      <td>RL</td>\n",
       "      <td>85.0</td>\n",
       "      <td>13175</td>\n",
       "      <td>Pave</td>\n",
       "      <td>NaN</td>\n",
       "      <td>Reg</td>\n",
       "      <td>Lvl</td>\n",
       "      <td>AllPub</td>\n",
       "      <td>...</td>\n",
       "      <td>0</td>\n",
       "      <td>NaN</td>\n",
       "      <td>MnPrv</td>\n",
       "      <td>NaN</td>\n",
       "      <td>0</td>\n",
       "      <td>2</td>\n",
       "      <td>2010</td>\n",
       "      <td>WD</td>\n",
       "      <td>Normal</td>\n",
       "      <td>210000</td>\n",
       "    </tr>\n",
       "    <tr>\n",
       "      <th>1457</th>\n",
       "      <td>1458</td>\n",
       "      <td>70</td>\n",
       "      <td>RL</td>\n",
       "      <td>66.0</td>\n",
       "      <td>9042</td>\n",
       "      <td>Pave</td>\n",
       "      <td>NaN</td>\n",
       "      <td>Reg</td>\n",
       "      <td>Lvl</td>\n",
       "      <td>AllPub</td>\n",
       "      <td>...</td>\n",
       "      <td>0</td>\n",
       "      <td>NaN</td>\n",
       "      <td>GdPrv</td>\n",
       "      <td>Shed</td>\n",
       "      <td>2500</td>\n",
       "      <td>5</td>\n",
       "      <td>2010</td>\n",
       "      <td>WD</td>\n",
       "      <td>Normal</td>\n",
       "      <td>266500</td>\n",
       "    </tr>\n",
       "    <tr>\n",
       "      <th>1458</th>\n",
       "      <td>1459</td>\n",
       "      <td>20</td>\n",
       "      <td>RL</td>\n",
       "      <td>68.0</td>\n",
       "      <td>9717</td>\n",
       "      <td>Pave</td>\n",
       "      <td>NaN</td>\n",
       "      <td>Reg</td>\n",
       "      <td>Lvl</td>\n",
       "      <td>AllPub</td>\n",
       "      <td>...</td>\n",
       "      <td>0</td>\n",
       "      <td>NaN</td>\n",
       "      <td>NaN</td>\n",
       "      <td>NaN</td>\n",
       "      <td>0</td>\n",
       "      <td>4</td>\n",
       "      <td>2010</td>\n",
       "      <td>WD</td>\n",
       "      <td>Normal</td>\n",
       "      <td>142125</td>\n",
       "    </tr>\n",
       "    <tr>\n",
       "      <th>1459</th>\n",
       "      <td>1460</td>\n",
       "      <td>20</td>\n",
       "      <td>RL</td>\n",
       "      <td>75.0</td>\n",
       "      <td>9937</td>\n",
       "      <td>Pave</td>\n",
       "      <td>NaN</td>\n",
       "      <td>Reg</td>\n",
       "      <td>Lvl</td>\n",
       "      <td>AllPub</td>\n",
       "      <td>...</td>\n",
       "      <td>0</td>\n",
       "      <td>NaN</td>\n",
       "      <td>NaN</td>\n",
       "      <td>NaN</td>\n",
       "      <td>0</td>\n",
       "      <td>6</td>\n",
       "      <td>2008</td>\n",
       "      <td>WD</td>\n",
       "      <td>Normal</td>\n",
       "      <td>147500</td>\n",
       "    </tr>\n",
       "  </tbody>\n",
       "</table>\n",
       "<p>1460 rows × 81 columns</p>\n",
       "</div>"
      ],
      "text/plain": [
       "        Id  MSSubClass MSZoning  LotFrontage  LotArea Street Alley LotShape  \\\n",
       "0        1          60       RL         65.0     8450   Pave   NaN      Reg   \n",
       "1        2          20       RL         80.0     9600   Pave   NaN      Reg   \n",
       "2        3          60       RL         68.0    11250   Pave   NaN      IR1   \n",
       "3        4          70       RL         60.0     9550   Pave   NaN      IR1   \n",
       "4        5          60       RL         84.0    14260   Pave   NaN      IR1   \n",
       "...    ...         ...      ...          ...      ...    ...   ...      ...   \n",
       "1455  1456          60       RL         62.0     7917   Pave   NaN      Reg   \n",
       "1456  1457          20       RL         85.0    13175   Pave   NaN      Reg   \n",
       "1457  1458          70       RL         66.0     9042   Pave   NaN      Reg   \n",
       "1458  1459          20       RL         68.0     9717   Pave   NaN      Reg   \n",
       "1459  1460          20       RL         75.0     9937   Pave   NaN      Reg   \n",
       "\n",
       "     LandContour Utilities  ... PoolArea PoolQC  Fence MiscFeature MiscVal  \\\n",
       "0            Lvl    AllPub  ...        0    NaN    NaN         NaN       0   \n",
       "1            Lvl    AllPub  ...        0    NaN    NaN         NaN       0   \n",
       "2            Lvl    AllPub  ...        0    NaN    NaN         NaN       0   \n",
       "3            Lvl    AllPub  ...        0    NaN    NaN         NaN       0   \n",
       "4            Lvl    AllPub  ...        0    NaN    NaN         NaN       0   \n",
       "...          ...       ...  ...      ...    ...    ...         ...     ...   \n",
       "1455         Lvl    AllPub  ...        0    NaN    NaN         NaN       0   \n",
       "1456         Lvl    AllPub  ...        0    NaN  MnPrv         NaN       0   \n",
       "1457         Lvl    AllPub  ...        0    NaN  GdPrv        Shed    2500   \n",
       "1458         Lvl    AllPub  ...        0    NaN    NaN         NaN       0   \n",
       "1459         Lvl    AllPub  ...        0    NaN    NaN         NaN       0   \n",
       "\n",
       "     MoSold YrSold  SaleType  SaleCondition  SalePrice  \n",
       "0         2   2008        WD         Normal     208500  \n",
       "1         5   2007        WD         Normal     181500  \n",
       "2         9   2008        WD         Normal     223500  \n",
       "3         2   2006        WD        Abnorml     140000  \n",
       "4        12   2008        WD         Normal     250000  \n",
       "...     ...    ...       ...            ...        ...  \n",
       "1455      8   2007        WD         Normal     175000  \n",
       "1456      2   2010        WD         Normal     210000  \n",
       "1457      5   2010        WD         Normal     266500  \n",
       "1458      4   2010        WD         Normal     142125  \n",
       "1459      6   2008        WD         Normal     147500  \n",
       "\n",
       "[1460 rows x 81 columns]"
      ]
     },
     "metadata": {},
     "output_type": "display_data"
    }
   ],
   "source": [
    "train = pd.read_csv(\"./data/train.csv\")\n",
    "test = pd.read_csv(\"./data/test.csv\")\n",
    "display(train)"
   ]
  },
  {
   "cell_type": "code",
   "execution_count": 64,
   "metadata": {},
   "outputs": [],
   "source": [
    "train.isna().sum()\n",
    "train.fillna(0, inplace=True)"
   ]
  },
  {
   "attachments": {},
   "cell_type": "markdown",
   "metadata": {},
   "source": [
    "<h2 style=\"color:#f7ce5b; font-family: Arial, sans-serif; font-size: 40px; margin-top: 50px; border-bottom: 2px solid #f7ce5b;\">\n",
    "One Hot Encoding\n",
    "</h2>"
   ]
  },
  {
   "attachments": {},
   "cell_type": "markdown",
   "metadata": {},
   "source": [
    "<h3 style=\"color:#c38d9e; font-family: Arial, sans-serif; font-size: 24px; margin-top: 40px; text-align: center;\">\n",
    "MSZoning\n",
    "</h3>"
   ]
  },
  {
   "cell_type": "code",
   "execution_count": 65,
   "metadata": {},
   "outputs": [],
   "source": [
    "MSZones = ['A', 'C', 'FV', 'I', 'RH', 'RL', 'RP', 'RM']\n",
    "for zone in MSZones : \n",
    "    train[f'MSZoning_{zone}'] = train.apply(lambda x: 1 if x['MSZoning'] == f'{zone}' else 0, axis = 1)\n",
    "    test[f'MSZoning_{zone}'] = test.apply(lambda x: 1 if x['MSZoning'] == f'{zone}' else 0, axis = 1)\n",
    "train = train.drop('MSZoning', axis=1)\n",
    "test = test.drop('MSZoning', axis= 1)"
   ]
  },
  {
   "attachments": {},
   "cell_type": "markdown",
   "metadata": {},
   "source": [
    "<h3 style=\"color:#c38d9e; font-family: Arial, sans-serif; font-size: 24px; margin-top: 40px; text-align: center;\">\n",
    "Street\n",
    "</h3>"
   ]
  },
  {
   "cell_type": "code",
   "execution_count": 66,
   "metadata": {},
   "outputs": [],
   "source": [
    "Street = ['Grvl', 'Pave']\n",
    "for str in Street : \n",
    "    train[f'Street_{str}'] = train.apply(lambda x: 1 if x['Street'] == f'{str}' else 0, axis = 1)\n",
    "    test[f'Street_{str}'] = test.apply(lambda x: 1 if x['Street'] == f'{str}' else 0, axis = 1)\n",
    "train = train.drop('Street', axis=1)\n",
    "test = test.drop('Street', axis= 1)"
   ]
  },
  {
   "attachments": {},
   "cell_type": "markdown",
   "metadata": {},
   "source": [
    "<h3 style=\"color:#c38d9e; font-family: Arial, sans-serif; font-size: 24px; margin-top: 40px; text-align: center;\">\n",
    "Alley\n",
    "</h3>"
   ]
  },
  {
   "cell_type": "code",
   "execution_count": 67,
   "metadata": {},
   "outputs": [],
   "source": [
    "Alley = ['Grvl', 'Pave', 'NA']\n",
    "for all in Alley : \n",
    "    train[f'Alley_{all}'] = train.apply(lambda x: 1 if x['Alley'] == f'{all}' else 0, axis = 1)\n",
    "    test[f'Alley_{all}'] = test.apply(lambda x: 1 if x['Alley'] == f'{all}' else 0, axis = 1)\n",
    "train = train.drop('Alley', axis=1)\n",
    "test = test.drop('Alley', axis= 1)"
   ]
  },
  {
   "attachments": {},
   "cell_type": "markdown",
   "metadata": {},
   "source": [
    "<h3 style=\"color:#c38d9e; font-family: Arial, sans-serif; font-size: 24px; margin-top: 40px; text-align: center;\">\n",
    "LotShape\n",
    "</h3>"
   ]
  },
  {
   "cell_type": "code",
   "execution_count": 68,
   "metadata": {},
   "outputs": [],
   "source": [
    "LotShape = ['Reg', 'IR1', 'IR2', 'IR3']\n",
    "for shape in LotShape :\n",
    "    train[f'LotShape_{shape}'] = train.apply(lambda x: 1 if x['LotShape'] == f'{shape}' else 0, axis = 1)\n",
    "    test[f'LotShape_{shape}'] = test.apply(lambda x: 1 if x['LotShape'] == f'{shape}' else 0, axis = 1)\n",
    "train = train.drop('LotShape', axis=1)\n",
    "test = test.drop('LotShape', axis= 1)"
   ]
  },
  {
   "attachments": {},
   "cell_type": "markdown",
   "metadata": {},
   "source": [
    "<h3 style=\"color:#c38d9e; font-family: Arial, sans-serif; font-size: 24px; margin-top: 40px; text-align: center;\">\n",
    "LandCountour\n",
    "</h3>"
   ]
  },
  {
   "cell_type": "code",
   "execution_count": 69,
   "metadata": {},
   "outputs": [],
   "source": [
    "LandContour = ['Lvl', 'Bnk', 'HLS', 'Low']\n",
    "for contour in LandContour :\n",
    "    train[f'LandContour_{contour}'] = train.apply(lambda x: 1 if x['LandContour'] == f'{contour}' else 0, axis = 1)\n",
    "    test[f'LandContour_{contour}'] = test.apply(lambda x: 1 if x['LandContour'] == f'{contour}' else 0, axis = 1)\n",
    "train = train.drop('LandContour', axis=1)\n",
    "test = test.drop('LandContour', axis= 1)"
   ]
  },
  {
   "attachments": {},
   "cell_type": "markdown",
   "metadata": {},
   "source": [
    "<h3 style=\"color:#c38d9e; font-family: Arial, sans-serif; font-size: 24px; margin-top: 40px; text-align: center;\">\n",
    "Utilities\n",
    "</h3>"
   ]
  },
  {
   "cell_type": "code",
   "execution_count": 70,
   "metadata": {},
   "outputs": [],
   "source": [
    "Utilities = ['AllPub', 'NoSewr', 'NoSeWa', 'ELO']\n",
    "for util in Utilities :\n",
    "    train[f'Utilities_{util}'] = train.apply(lambda x: 1 if x['Utilities'] == f'{util}' else 0, axis = 1)\n",
    "    test[f'Utilities_{util}'] = test.apply(lambda x: 1 if x['Utilities'] == f'{util}' else 0, axis = 1)\n",
    "train = train.drop('Utilities', axis=1)\n",
    "test = test.drop('Utilities', axis= 1)"
   ]
  },
  {
   "attachments": {},
   "cell_type": "markdown",
   "metadata": {},
   "source": [
    "<h3 style=\"color:#c38d9e; font-family: Arial, sans-serif; font-size: 24px; margin-top: 40px; text-align: center;\">\n",
    "LotConfig\n",
    "</h3>"
   ]
  },
  {
   "cell_type": "code",
   "execution_count": 71,
   "metadata": {},
   "outputs": [],
   "source": [
    "LotConfig = ['Inside', 'Corner', 'CulDSac', 'FR2', 'FR3']\n",
    "for config in LotConfig :\n",
    "    train[f'LotConfig_{config}'] = train.apply(lambda x: 1 if x['LotConfig'] == f'{config}' else 0, axis = 1)\n",
    "    test[f'LotConfig_{config}'] = test.apply(lambda x: 1 if x['LotConfig'] == f'{config}' else 0, axis = 1)\n",
    "train = train.drop('LotConfig', axis=1)\n",
    "test = test.drop('LotConfig', axis= 1)"
   ]
  },
  {
   "attachments": {},
   "cell_type": "markdown",
   "metadata": {},
   "source": [
    "<h3 style=\"color:#c38d9e; font-family: Arial, sans-serif; font-size: 24px; margin-top: 40px; text-align: center;\">\n",
    "Neighborhood\n",
    "</h3>"
   ]
  },
  {
   "cell_type": "code",
   "execution_count": 72,
   "metadata": {},
   "outputs": [],
   "source": [
    "Neighborhood = ['Blmngtn', 'Blueste', 'BrDale', 'BrkSide', 'ClearCr', 'CollgCr', 'Crawfor', 'Edwards', 'Gilbert', 'IDOTRR', 'MeadowV', 'Mitchel', 'Names', 'NoRidge', 'NPkVill', 'NridgHt', 'NWAmes', 'OldTown', 'SWISU', 'Sawyer', 'SawyerW', 'Somerst', 'StoneBr', 'Timber', 'Veenker']\n",
    "for all in Neighborhood : \n",
    "    train[f'Neighborhood_{all}'] = train.apply(lambda x: 1 if x['Neighborhood'] == f'{all}' else 0, axis = 1)\n",
    "    test[f'Neighborhood_{all}'] = test.apply(lambda x: 1 if x['Neighborhood'] == f'{all}' else 0, axis = 1)\n",
    "train = train.drop('Neighborhood', axis=1)\n",
    "test = test.drop('Neighborhood', axis= 1)"
   ]
  },
  {
   "attachments": {},
   "cell_type": "markdown",
   "metadata": {},
   "source": [
    "<h3 style=\"color:#c38d9e; font-family: Arial, sans-serif; font-size: 24px; margin-top: 40px; text-align: center;\">\n",
    "LandSlope\n",
    "</h3>"
   ]
  },
  {
   "cell_type": "code",
   "execution_count": 73,
   "metadata": {},
   "outputs": [],
   "source": [
    "LandSlope = ['Gtl', 'Mod', 'Sev']\n",
    "for all in LandSlope : \n",
    "    train[f'LandSlope_{all}'] = train.apply(lambda x: 1 if x['LandSlope'] == f'{all}' else 0, axis = 1)\n",
    "    test[f'LandSlope_{all}'] = test.apply(lambda x: 1 if x['LandSlope'] == f'{all}' else 0, axis = 1)\n",
    "train = train.drop('LandSlope', axis=1)\n",
    "test = test.drop('LandSlope', axis= 1)"
   ]
  },
  {
   "attachments": {},
   "cell_type": "markdown",
   "metadata": {},
   "source": [
    "<h3 style=\"color:#c38d9e; font-family: Arial, sans-serif; font-size: 24px; margin-top: 40px; text-align: center;\">\n",
    "Condition1\n",
    "</h3>"
   ]
  },
  {
   "cell_type": "code",
   "execution_count": 74,
   "metadata": {},
   "outputs": [],
   "source": [
    "for cond in ['Artery', 'Feedr', 'Norm', 'RRNn', 'RRAn', 'PosN', 'PosA', 'RRNe', 'RRAe']:\n",
    "    train[f'Condition1_{cond}'] = train.apply(lambda x: 1 if x['Condition1'] == f'{cond}' else 0, axis=1)\n",
    "    test[f'Condition1_{cond}'] = test.apply(lambda x: 1 if x['Condition1'] == f'{cond}' else 0, axis=1)\n",
    "train = train.drop('Condition1', axis=1)\n",
    "test = test.drop('Condition1', axis=1)"
   ]
  },
  {
   "attachments": {},
   "cell_type": "markdown",
   "metadata": {},
   "source": [
    "<h3 style=\"color:#c38d9e; font-family: Arial, sans-serif; font-size: 24px; margin-top: 40px; text-align: center;\">\n",
    "Condition2\n",
    "</h3>"
   ]
  },
  {
   "cell_type": "code",
   "execution_count": 75,
   "metadata": {},
   "outputs": [],
   "source": [
    "for cond in ['Artery', 'Feedr', 'Norm', 'RRNn', 'RRAn', 'PosN', 'PosA', 'RRNe', 'RRAe']:\n",
    "    train[f'Condition2_{cond}'] = train.apply(lambda x: 1 if x['Condition2'] == f'{cond}' else 0, axis=1)\n",
    "    test[f'Condition2_{cond}'] = test.apply(lambda x: 1 if x['Condition2'] == f'{cond}' else 0, axis=1)\n",
    "train = train.drop('Condition2', axis=1)\n",
    "test = test.drop('Condition2', axis=1)"
   ]
  },
  {
   "attachments": {},
   "cell_type": "markdown",
   "metadata": {},
   "source": [
    "<h3 style=\"color:#c38d9e; font-family: Arial, sans-serif; font-size: 24px; margin-top: 40px; text-align: center;\">\n",
    "BldgType\n",
    "</h3>"
   ]
  },
  {
   "cell_type": "code",
   "execution_count": 76,
   "metadata": {},
   "outputs": [],
   "source": [
    "for all in ['1Fam', '2FmCon', 'Duplex', 'TwnhsE', 'TwnhsI']:\n",
    "    train[f'BldgType_{all}'] = train.apply(lambda x: 1 if x['BldgType'] == f'{all}' else 0, axis = 1)\n",
    "    test[f'BldgType_{all}'] = test.apply(lambda x: 1 if x['BldgType'] == f'{all}' else 0, axis = 1)\n",
    "train = train.drop('BldgType', axis=1)\n",
    "test = test.drop('BldgType', axis= 1)"
   ]
  },
  {
   "attachments": {},
   "cell_type": "markdown",
   "metadata": {},
   "source": [
    "<h3 style=\"color:#c38d9e; font-family: Arial, sans-serif; font-size: 24px; margin-top: 40px; text-align: center;\">\n",
    "HouseStyle\n",
    "</h3>"
   ]
  },
  {
   "cell_type": "code",
   "execution_count": 77,
   "metadata": {},
   "outputs": [],
   "source": [
    "for all in ['1Story', '1.5Fin', '1.5Unf', '2Story', '2.5Fin', '2.5Unf', 'SFoyer', 'SLvl']:\n",
    "    train[f'HouseStyle_{all}'] = train.apply(lambda x: 1 if x['HouseStyle'] == f'{all}' else 0, axis = 1)\n",
    "    test[f'HouseStyle_{all}'] = test.apply(lambda x: 1 if x['HouseStyle'] == f'{all}' else 0, axis = 1)\n",
    "train = train.drop('HouseStyle', axis=1)\n",
    "test = test.drop('HouseStyle', axis= 1)"
   ]
  },
  {
   "attachments": {},
   "cell_type": "markdown",
   "metadata": {},
   "source": [
    "<h3 style=\"color:#c38d9e; font-family: Arial, sans-serif; font-size: 24px; margin-top: 40px; text-align: center;\">\n",
    "RoofStyle\n",
    "</h3>"
   ]
  },
  {
   "cell_type": "code",
   "execution_count": 78,
   "metadata": {},
   "outputs": [],
   "source": [
    "for all in train['RoofStyle'].unique() :\n",
    "    train[f'RoofStyle_{all}'] = train.apply(lambda x: 1 if x['RoofStyle'] == all else 0, axis = 1)\n",
    "    test[f'RoofStyle_{all}'] = test.apply(lambda x: 1 if x['RoofStyle'] == all else 0, axis = 1)\n",
    "train = train.drop('RoofStyle', axis=1)\n",
    "test = test.drop('RoofStyle', axis=1)"
   ]
  },
  {
   "attachments": {},
   "cell_type": "markdown",
   "metadata": {},
   "source": [
    "<h3 style=\"color:#c38d9e; font-family: Arial, sans-serif; font-size: 24px; margin-top: 40px; text-align: center;\">\n",
    "RoofMatl\n",
    "</h3>"
   ]
  },
  {
   "cell_type": "code",
   "execution_count": 79,
   "metadata": {},
   "outputs": [],
   "source": [
    "for all in train['RoofMatl'].unique() :\n",
    "    train[f'RoofMatl_{all}'] = train.apply(lambda x: 1 if x['RoofMatl'] == all else 0, axis = 1)\n",
    "    test[f'RoofMatl_{all}'] = test.apply(lambda x: 1 if x['RoofMatl'] == all else 0, axis = 1)\n",
    "train = train.drop('RoofMatl', axis=1)\n",
    "test = test.drop('RoofMatl', axis=1)"
   ]
  },
  {
   "attachments": {},
   "cell_type": "markdown",
   "metadata": {},
   "source": [
    "<h3 style=\"color:#c38d9e; font-family: Arial, sans-serif; font-size: 24px; margin-top: 40px; text-align: center;\">\n",
    "Exterior1st\n",
    "</h3>"
   ]
  },
  {
   "cell_type": "code",
   "execution_count": 80,
   "metadata": {},
   "outputs": [],
   "source": [
    "for all in train['Exterior1st'].unique() :\n",
    "    train[f'Exterior1st_{all}'] = train.apply(lambda x: 1 if x['Exterior1st'] == all else 0, axis = 1)\n",
    "    test[f'Exterior1st_{all}'] = test.apply(lambda x: 1 if x['Exterior1st'] == all else 0, axis = 1)\n",
    "train = train.drop('Exterior1st', axis=1)\n",
    "test = test.drop('Exterior1st', axis=1)"
   ]
  },
  {
   "attachments": {},
   "cell_type": "markdown",
   "metadata": {},
   "source": [
    "<h3 style=\"color:#c38d9e; font-family: Arial, sans-serif; font-size: 24px; margin-top: 40px; text-align: center;\">\n",
    "Exterior2nd\n",
    "</h3>"
   ]
  },
  {
   "cell_type": "code",
   "execution_count": 81,
   "metadata": {},
   "outputs": [],
   "source": [
    "for all in train['Exterior2nd'].unique() :\n",
    "    train[f'Exterior2nd_{all}'] = train.apply(lambda x: 1 if x['Exterior2nd'] == all else 0, axis = 1)\n",
    "    test[f'Exterior2nd_{all}'] = test.apply(lambda x: 1 if x['Exterior2nd'] == all else 0, axis = 1)\n",
    "train = train.drop('Exterior2nd', axis=1)\n",
    "test = test.drop('Exterior2nd', axis=1)"
   ]
  },
  {
   "attachments": {},
   "cell_type": "markdown",
   "metadata": {},
   "source": [
    "<h3 style=\"color:#c38d9e; font-family: Arial, sans-serif; font-size: 24px; margin-top: 40px; text-align: center;\">\n",
    "MasVnrType\n",
    "</h3>"
   ]
  },
  {
   "cell_type": "code",
   "execution_count": 82,
   "metadata": {},
   "outputs": [],
   "source": [
    "for all in train['MasVnrType'].unique() : \n",
    "    train[f'MasVnrType_{all}'] = train.apply(lambda x: 1 if x['MasVnrType'] == f'{all}' else 0, axis = 1)\n",
    "    test[f'MasVnrType_{all}'] = test.apply(lambda x: 1 if x['MasVnrType'] == f'{all}' else 0, axis = 1)\n",
    "train = train.drop('MasVnrType', axis=1)\n",
    "test = test.drop('MasVnrType', axis=1)"
   ]
  },
  {
   "attachments": {},
   "cell_type": "markdown",
   "metadata": {},
   "source": [
    "<h3 style=\"color:#c38d9e; font-family: Arial, sans-serif; font-size: 24px; margin-top: 40px; text-align: center;\">\n",
    "ExteriorQual\n",
    "</h3>"
   ]
  },
  {
   "cell_type": "code",
   "execution_count": 83,
   "metadata": {},
   "outputs": [],
   "source": [
    "train['ExterQual'] = train['ExterQual'].map({'Ex': 5, 'Gd': 4, 'TA': 3, 'Fa': 2, 'Po': 1})\n",
    "test['ExterQual'] = test['ExterQual'].map({'Ex': 5, 'Gd': 4, 'TA': 3, 'Fa': 2, 'Po': 1})"
   ]
  },
  {
   "attachments": {},
   "cell_type": "markdown",
   "metadata": {},
   "source": [
    "<h3 style=\"color:#c38d9e; font-family: Arial, sans-serif; font-size: 24px; margin-top: 40px; text-align: center;\">\n",
    "ExteriorCond\n",
    "</h3>"
   ]
  },
  {
   "cell_type": "code",
   "execution_count": 84,
   "metadata": {},
   "outputs": [],
   "source": [
    "train['ExterCond'] = train['ExterCond'].map({'Ex': 5, 'Gd': 4, 'TA': 3, 'Fa': 2, 'Po': 1})\n",
    "test['ExterCond'] = test['ExterCond'].map({'Ex': 5, 'Gd': 4, 'TA': 3, 'Fa': 2, 'Po': 1})"
   ]
  },
  {
   "attachments": {},
   "cell_type": "markdown",
   "metadata": {},
   "source": [
    "<h3 style=\"color:#c38d9e; font-family: Arial, sans-serif; font-size: 24px; margin-top: 40px; text-align: center;\">\n",
    "Foundation\n",
    "</h3>"
   ]
  },
  {
   "cell_type": "code",
   "execution_count": 85,
   "metadata": {},
   "outputs": [],
   "source": [
    "for all in train['Foundation'].unique() : \n",
    "    train[f'Foundation_{all}'] = train.apply(lambda x: 1 if x['Foundation'] == f'{all}' else 0, axis = 1)\n",
    "    test[f'Foundation_{all}'] = test.apply(lambda x: 1 if x['Foundation'] == f'{all}' else 0, axis = 1)\n",
    "train = train.drop('Foundation', axis=1)\n",
    "test = test.drop('Foundation', axis=1)"
   ]
  },
  {
   "attachments": {},
   "cell_type": "markdown",
   "metadata": {},
   "source": [
    "<h3 style=\"color:#c38d9e; font-family: Arial, sans-serif; font-size: 24px; margin-top: 40px; text-align: center;\">\n",
    "BsmtQual\n",
    "</h3>"
   ]
  },
  {
   "cell_type": "code",
   "execution_count": 86,
   "metadata": {},
   "outputs": [],
   "source": [
    "train['BsmtQual'] = train['BsmtQual'].map({'Ex': 5, 'Gd': 4, 'TA': 3, 'Fa': 2, 'Po': 1, 'Na' : 0})\n",
    "test['BsmtQual'] = test['BsmtQual'].map({'Ex': 5, 'Gd': 4, 'TA': 3, 'Fa': 2, 'Po': 1,'Na' : 0})"
   ]
  },
  {
   "attachments": {},
   "cell_type": "markdown",
   "metadata": {},
   "source": [
    "<h3 style=\"color:#c38d9e; font-family: Arial, sans-serif; font-size: 24px; margin-top: 40px; text-align: center;\">\n",
    "BsmtCond\n",
    "</h3>"
   ]
  },
  {
   "cell_type": "code",
   "execution_count": 87,
   "metadata": {},
   "outputs": [],
   "source": [
    "train['BsmtCond'] = train['BsmtCond'].map({'Ex': 5, 'Gd': 4, 'TA': 3, 'Fa': 2, 'Po': 1, 'Na' : 0})\n",
    "test['BsmtCond'] = test['BsmtCond'].map({'Ex': 5, 'Gd': 4, 'TA': 3, 'Fa': 2, 'Po': 1,'Na' : 0})"
   ]
  },
  {
   "attachments": {},
   "cell_type": "markdown",
   "metadata": {},
   "source": [
    "<h3 style=\"color:#c38d9e; font-family: Arial, sans-serif; font-size: 24px; margin-top: 40px; text-align: center;\">\n",
    "BsmtCond\n",
    "</h3>"
   ]
  },
  {
   "cell_type": "code",
   "execution_count": 88,
   "metadata": {},
   "outputs": [],
   "source": [
    "train['BsmtExposure'] = train['BsmtExposure'].map({ 'Gd': 4, 'TA': 3, 'Fa': 2, 'Po': 1, 'Na' : 0})\n",
    "test['BsmtExposure'] = test['BsmtExposure'].map({ 'Gd': 4, 'TA': 3, 'Fa': 2, 'Po': 1,'Na' : 0})"
   ]
  },
  {
   "attachments": {},
   "cell_type": "markdown",
   "metadata": {},
   "source": [
    "<h3 style=\"color:#c38d9e; font-family: Arial, sans-serif; font-size: 24px; margin-top: 40px; text-align: center;\">\n",
    "BsmtFinType1\n",
    "</h3>"
   ]
  },
  {
   "cell_type": "code",
   "execution_count": 89,
   "metadata": {},
   "outputs": [],
   "source": [
    "for all in train['BsmtFinType1'].unique() : \n",
    "    train[f'BsmtFinType1_{all}'] = train.apply(lambda x: 1 if x['BsmtFinType1'] == f'{all}' else 0, axis = 1)\n",
    "    test[f'BsmtFinType1_{all}'] = test.apply(lambda x: 1 if x['BsmtFinType1'] == f'{all}' else 0, axis = 1)\n",
    "train = train.drop('BsmtFinType1', axis=1)\n",
    "test = test.drop('BsmtFinType1', axis=1)"
   ]
  },
  {
   "attachments": {},
   "cell_type": "markdown",
   "metadata": {},
   "source": [
    "<h3 style=\"color:#c38d9e; font-family: Arial, sans-serif; font-size: 24px; margin-top: 40px; text-align: center;\">\n",
    "BsmtFinType2\n",
    "</h3>"
   ]
  },
  {
   "cell_type": "code",
   "execution_count": 90,
   "metadata": {},
   "outputs": [],
   "source": [
    "for all in train['BsmtFinType2'].unique() : \n",
    "    train[f'BsmtFinType2_{all}'] = train.apply(lambda x: 1 if x['BsmtFinType2'] == f'{all}' else 0, axis = 1)\n",
    "    test[f'BsmtFinType2_{all}'] = test.apply(lambda x: 1 if x['BsmtFinType2'] == f'{all}' else 0, axis = 1)\n",
    "train = train.drop('BsmtFinType2', axis=1)\n",
    "test = test.drop('BsmtFinType2', axis=1)"
   ]
  },
  {
   "attachments": {},
   "cell_type": "markdown",
   "metadata": {},
   "source": [
    "<h3 style=\"color:#c38d9e; font-family: Arial, sans-serif; font-size: 24px; margin-top: 40px; text-align: center;\">\n",
    "Heating\n",
    "</h3>"
   ]
  },
  {
   "cell_type": "code",
   "execution_count": 91,
   "metadata": {},
   "outputs": [],
   "source": [
    "for all in train['Heating'].unique() : \n",
    "    train[f'Heating_{all}'] = train.apply(lambda x: 1 if x['Heating'] == f'{all}' else 0, axis = 1)\n",
    "    test[f'Heating_{all}'] = test.apply(lambda x: 1 if x['Heating'] == f'{all}' else 0, axis = 1)\n",
    "train = train.drop('Heating', axis=1)\n",
    "test = test.drop('Heating', axis=1)"
   ]
  },
  {
   "attachments": {},
   "cell_type": "markdown",
   "metadata": {},
   "source": [
    "<h3 style=\"color:#c38d9e; font-family: Arial, sans-serif; font-size: 24px; margin-top: 40px; text-align: center;\">\n",
    "HeatingQC\n",
    "</h3>"
   ]
  },
  {
   "cell_type": "code",
   "execution_count": 92,
   "metadata": {},
   "outputs": [],
   "source": [
    "train['HeatingQC'] = train['HeatingQC'].map({'Ex': 5, 'Gd': 4, 'TA': 3, 'Fa': 2, 'Po': 1})\n",
    "test['HeatingQC'] = test['HeatingQC'].map({'Ex': 5, 'Gd': 4, 'TA': 3, 'Fa': 2, 'Po': 1})"
   ]
  },
  {
   "attachments": {},
   "cell_type": "markdown",
   "metadata": {},
   "source": [
    "<h3 style=\"color:#c38d9e; font-family: Arial, sans-serif; font-size: 24px; margin-top: 40px; text-align: center;\">\n",
    "CentralAir\n",
    "</h3>"
   ]
  },
  {
   "cell_type": "code",
   "execution_count": 93,
   "metadata": {},
   "outputs": [],
   "source": [
    "train['CentralAir'] = train['CentralAir'].map({'Y': 1, 'N': 0})\n",
    "test['CentralAir'] = test['CentralAir'].map({'Y': 1, 'N': 0})"
   ]
  },
  {
   "attachments": {},
   "cell_type": "markdown",
   "metadata": {},
   "source": [
    "<h3 style=\"color:#c38d9e; font-family: Arial, sans-serif; font-size: 24px; margin-top: 40px; text-align: center;\">\n",
    "Electrical\n",
    "</h3>"
   ]
  },
  {
   "cell_type": "code",
   "execution_count": 94,
   "metadata": {},
   "outputs": [],
   "source": [
    "for all in train['Electrical'].unique() : \n",
    "    train[f'Electrical_{all}'] = train.apply(lambda x: 1 if x['Electrical'] == f'{all}' else 0, axis = 1)\n",
    "    test[f'Electrical_{all}'] = test.apply(lambda x: 1 if x['Electrical'] == f'{all}' else 0, axis = 1)\n",
    "train = train.drop('Electrical', axis=1)\n",
    "test = test.drop('Electrical', axis=1)"
   ]
  },
  {
   "attachments": {},
   "cell_type": "markdown",
   "metadata": {},
   "source": [
    "<h3 style=\"color:#c38d9e; font-family: Arial, sans-serif; font-size: 24px; margin-top: 40px; text-align: center;\">\n",
    "KitchenQual\n",
    "</h3>"
   ]
  },
  {
   "cell_type": "code",
   "execution_count": 95,
   "metadata": {},
   "outputs": [],
   "source": [
    "train['KitchenQual'] = train['KitchenQual'].map({'Ex': 5, 'Gd': 4, 'TA': 3, 'Fa': 2, 'Po': 1})\n",
    "test['KitchenQual'] = test['KitchenQual'].map({'Ex': 5, 'Gd': 4, 'TA': 3, 'Fa': 2, 'Po': 1})"
   ]
  },
  {
   "attachments": {},
   "cell_type": "markdown",
   "metadata": {},
   "source": [
    "<h3 style=\"color:#c38d9e; font-family: Arial, sans-serif; font-size: 24px; margin-top: 40px; text-align: center;\">\n",
    "Functionnal\n",
    "</h3>"
   ]
  },
  {
   "cell_type": "code",
   "execution_count": 96,
   "metadata": {},
   "outputs": [],
   "source": [
    "for all in train['Functional'].unique() : \n",
    "    train[f'Functional_{all}'] = train.apply(lambda x: 1 if x['Functional'] == f'{all}' else 0, axis = 1)\n",
    "    test[f'Functional_{all}'] = test.apply(lambda x: 1 if x['Functional'] == f'{all}' else 0, axis = 1)\n",
    "train = train.drop('Functional', axis=1)\n",
    "test = test.drop('Functional', axis=1)"
   ]
  },
  {
   "attachments": {},
   "cell_type": "markdown",
   "metadata": {},
   "source": [
    "<h3 style=\"color:#c38d9e; font-family: Arial, sans-serif; font-size: 24px; margin-top: 40px; text-align: center;\">\n",
    "FirePlaceQual\n",
    "</h3>"
   ]
  },
  {
   "cell_type": "code",
   "execution_count": 97,
   "metadata": {},
   "outputs": [],
   "source": [
    "train['FireplaceQu'] = train['FireplaceQu'].map({'Ex': 5, 'Gd': 4, 'TA': 3, 'Fa': 2, 'Po': 1, 'Na' : 0})\n",
    "test['FireplaceQu'] = test['FireplaceQu'].map({'Ex': 5, 'Gd': 4, 'TA': 3, 'Fa': 2, 'Po': 1,'Na' : 0})"
   ]
  },
  {
   "attachments": {},
   "cell_type": "markdown",
   "metadata": {},
   "source": [
    "<h3 style=\"color:#c38d9e; font-family: Arial, sans-serif; font-size: 24px; margin-top: 40px; text-align: center;\">\n",
    "GarageType\n",
    "</h3>"
   ]
  },
  {
   "cell_type": "code",
   "execution_count": 98,
   "metadata": {},
   "outputs": [],
   "source": [
    "for all in train['GarageType'].unique() : \n",
    "    train[f'GarageType_{all}'] = train.apply(lambda x: 1 if x['GarageType'] == f'{all}' else 0, axis = 1)\n",
    "    test[f'GarageType_{all}'] = test.apply(lambda x: 1 if x['GarageType'] == f'{all}' else 0, axis = 1)\n",
    "train = train.drop('GarageType', axis=1)\n",
    "test = test.drop('GarageType', axis=1)"
   ]
  },
  {
   "attachments": {},
   "cell_type": "markdown",
   "metadata": {},
   "source": [
    "<h3 style=\"color:#c38d9e; font-family: Arial, sans-serif; font-size: 24px; margin-top: 40px; text-align: center;\">\n",
    "GarageFinish\n",
    "</h3>"
   ]
  },
  {
   "cell_type": "code",
   "execution_count": 99,
   "metadata": {},
   "outputs": [],
   "source": [
    "train['GarageFinish'] = train['GarageFinish'].map({ 'Fin': 3, 'RFn': 2, 'Unf': 1, 'Na' : 0})\n",
    "test['GarageFinish'] = test['GarageFinish'].map({ 'Fin': 3, 'RFn': 2, 'Unf': 1, 'Na' : 0})"
   ]
  },
  {
   "attachments": {},
   "cell_type": "markdown",
   "metadata": {},
   "source": [
    "<h3 style=\"color:#c38d9e; font-family: Arial, sans-serif; font-size: 24px; margin-top: 40px; text-align: center;\">\n",
    "GarageQual\n",
    "</h3>"
   ]
  },
  {
   "cell_type": "code",
   "execution_count": 100,
   "metadata": {},
   "outputs": [],
   "source": [
    "train['GarageQual'] = train['GarageQual'].map({'Ex': 5, 'Gd': 4, 'TA': 3, 'Fa': 2, 'Po': 1, 'Na' : 0})\n",
    "test['GarageQual'] = test['GarageQual'].map({'Ex': 5, 'Gd': 4, 'TA': 3, 'Fa': 2, 'Po': 1,'Na' : 0})"
   ]
  },
  {
   "attachments": {},
   "cell_type": "markdown",
   "metadata": {},
   "source": [
    "<h3 style=\"color:#c38d9e; font-family: Arial, sans-serif; font-size: 24px; margin-top: 40px; text-align: center;\">\n",
    "GarageCond\n",
    "</h3>"
   ]
  },
  {
   "cell_type": "code",
   "execution_count": 101,
   "metadata": {},
   "outputs": [],
   "source": [
    "train['GarageCond'] = train['GarageCond'].map({'Ex': 5, 'Gd': 4, 'TA': 3, 'Fa': 2, 'Po': 1, 'Na' : 0})\n",
    "test['GarageCond'] = test['GarageCond'].map({'Ex': 5, 'Gd': 4, 'TA': 3, 'Fa': 2, 'Po': 1,'Na' : 0})"
   ]
  },
  {
   "attachments": {},
   "cell_type": "markdown",
   "metadata": {},
   "source": [
    "<h3 style=\"color:#c38d9e; font-family: Arial, sans-serif; font-size: 24px; margin-top: 40px; text-align: center;\">\n",
    "PavedDrive\n",
    "</h3>"
   ]
  },
  {
   "cell_type": "code",
   "execution_count": 102,
   "metadata": {},
   "outputs": [],
   "source": [
    "for all in train['PavedDrive'].unique() : \n",
    "    train[f'PavedDrive_{all}'] = train.apply(lambda x: 1 if x['PavedDrive'] == f'{all}' else 0, axis = 1)\n",
    "    test[f'PavedDrive_{all}'] = test.apply(lambda x: 1 if x['PavedDrive'] == f'{all}' else 0, axis = 1)\n",
    "train = train.drop('PavedDrive', axis=1)\n",
    "test = test.drop('PavedDrive', axis=1)"
   ]
  },
  {
   "attachments": {},
   "cell_type": "markdown",
   "metadata": {},
   "source": [
    "<h3 style=\"color:#c38d9e; font-family: Arial, sans-serif; font-size: 24px; margin-top: 40px; text-align: center;\">\n",
    "PoolQc\n",
    "</h3>"
   ]
  },
  {
   "cell_type": "code",
   "execution_count": 103,
   "metadata": {},
   "outputs": [],
   "source": [
    "train['PoolQC'] = train['PoolQC'].map({'Ex': 4, 'Gd': 3, 'TA': 2, 'Fa': 1, 'Na' : 0})\n",
    "test['PoolQC'] = test['PoolQC'].map({'Ex': 4, 'Gd': 3, 'TA': 2, 'Fa': 1,'Na' : 0})"
   ]
  },
  {
   "attachments": {},
   "cell_type": "markdown",
   "metadata": {},
   "source": [
    "<h3 style=\"color:#c38d9e; font-family: Arial, sans-serif; font-size: 24px; margin-top: 40px; text-align: center;\">\n",
    "Fence\n",
    "</h3>"
   ]
  },
  {
   "cell_type": "code",
   "execution_count": 104,
   "metadata": {},
   "outputs": [],
   "source": [
    "train['Fence'] = train['Fence'].map({'GdPrv': 4, 'MnPrv': 3, 'GdWo': 2, 'MnWw': 1, 'Na' : 0})\n",
    "test['Fence'] = test['Fence'].map({'GdPrv': 4, 'MnPrv': 3, 'GdWo': 2, 'MnWw': 1, 'Na' : 0})"
   ]
  },
  {
   "attachments": {},
   "cell_type": "markdown",
   "metadata": {},
   "source": [
    "<h3 style=\"color:#c38d9e; font-family: Arial, sans-serif; font-size: 24px; margin-top: 40px; text-align: center;\">\n",
    "MiscFeature\n",
    "</h3>"
   ]
  },
  {
   "cell_type": "code",
   "execution_count": 105,
   "metadata": {},
   "outputs": [],
   "source": [
    "for all in train['MiscFeature'].unique() : \n",
    "    train[f'MiscFeature_{all}'] = train.apply(lambda x: 1 if x['MiscFeature'] == f'{all}' else 0, axis = 1)\n",
    "    test[f'MiscFeature_{all}'] = test.apply(lambda x: 1 if x['MiscFeature'] == f'{all}' else 0, axis = 1)\n",
    "train = train.drop('MiscFeature', axis=1)\n",
    "test = test.drop('MiscFeature', axis=1)"
   ]
  },
  {
   "attachments": {},
   "cell_type": "markdown",
   "metadata": {},
   "source": [
    "<h3 style=\"color:#c38d9e; font-family: Arial, sans-serif; font-size: 24px; margin-top: 40px; text-align: center;\">\n",
    "SaleType\n",
    "</h3>"
   ]
  },
  {
   "cell_type": "code",
   "execution_count": 106,
   "metadata": {},
   "outputs": [],
   "source": [
    "for all in train['SaleType'].unique() : \n",
    "    train[f'SaleType_{all}'] = train.apply(lambda x: 1 if x['SaleType'] == f'{all}' else 0, axis = 1)\n",
    "    test[f'SaleType_{all}'] = test.apply(lambda x: 1 if x['SaleType'] == f'{all}' else 0, axis = 1)\n",
    "train = train.drop('SaleType', axis=1)\n",
    "test = test.drop('SaleType', axis=1)"
   ]
  },
  {
   "attachments": {},
   "cell_type": "markdown",
   "metadata": {},
   "source": [
    "<h3 style=\"color:#c38d9e; font-family: Arial, sans-serif; font-size: 24px; margin-top: 40px; text-align: center;\">\n",
    "SaleCondition\n",
    "</h3>"
   ]
  },
  {
   "cell_type": "code",
   "execution_count": 107,
   "metadata": {},
   "outputs": [],
   "source": [
    "for all in train['SaleCondition'].unique() : \n",
    "    train[f'SaleCondition_{all}'] = train.apply(lambda x: 1 if x['SaleCondition'] == f'{all}' else 0, axis = 1)\n",
    "    test[f'SaleCondition_{all}'] = test.apply(lambda x: 1 if x['SaleCondition'] == f'{all}' else 0, axis = 1)\n",
    "train = train.drop('SaleCondition', axis=1)\n",
    "test = test.drop('SaleCondition', axis=1)"
   ]
  },
  {
   "attachments": {},
   "cell_type": "markdown",
   "metadata": {},
   "source": [
    "<h2 style=\"color:#f7ce5b; font-family: Arial, sans-serif; font-size: 40px; margin-top: 50px; border-bottom: 2px solid #f7ce5b;\">\n",
    "Test\n",
    "</h2>"
   ]
  },
  {
   "cell_type": "code",
   "execution_count": 108,
   "metadata": {},
   "outputs": [],
   "source": [
    "Y_train=train['SalePrice']\n",
    "\n",
    "X_train=train.drop(['SalePrice'],axis=1)\n",
    "\n",
    "X_test = test.copy()"
   ]
  },
  {
   "attachments": {},
   "cell_type": "markdown",
   "metadata": {},
   "source": [
    "Last check-up in oder to check up missing values"
   ]
  },
  {
   "cell_type": "code",
   "execution_count": 109,
   "metadata": {},
   "outputs": [
    {
     "name": "stdout",
     "output_type": "stream",
     "text": [
      "Index([], dtype='object')\n"
     ]
    }
   ],
   "source": [
    "string_cols = train.select_dtypes(include=['object'])\n",
    "\n",
    "# Afficher les colonnes sélectionnées\n",
    "print(string_cols.columns)"
   ]
  },
  {
   "cell_type": "code",
   "execution_count": 110,
   "metadata": {},
   "outputs": [
    {
     "name": "stdout",
     "output_type": "stream",
     "text": [
      "['BsmtQual', 'BsmtCond', 'BsmtExposure', 'FireplaceQu', 'GarageFinish', 'GarageQual', 'GarageCond', 'PoolQC', 'Fence']\n"
     ]
    }
   ],
   "source": [
    "# Calculer le nombre de valeurs manquantes par colonne\n",
    "na_counts = X_train.isna().sum()\n",
    "\n",
    "# Afficher les noms de colonnes qui ont des valeurs manquantes\n",
    "cols_with_na = na_counts[na_counts != 0].index.tolist()\n",
    "print(cols_with_na)"
   ]
  },
  {
   "cell_type": "code",
   "execution_count": 111,
   "metadata": {},
   "outputs": [
    {
     "name": "stdout",
     "output_type": "stream",
     "text": [
      "        Id  MSSubClass  LotFrontage  LotArea  OverallQual  OverallCond  \\\n",
      "17      18          90         72.0    10791            4            5   \n",
      "39      40          90         65.0     6040            4            5   \n",
      "90      91          20         60.0     7200            4            5   \n",
      "102    103          90         64.0     7018            5            5   \n",
      "156    157          20         60.0     7200            5            7   \n",
      "182    183          20         60.0     9060            5            6   \n",
      "259    260          20         70.0    12702            5            5   \n",
      "342    343          90          0.0     8544            3            4   \n",
      "362    363          85         64.0     7301            7            5   \n",
      "371    372          50         80.0    17120            4            4   \n",
      "392    393          20          0.0     8339            5            7   \n",
      "520    521         190         60.0    10800            4            7   \n",
      "532    533          20         60.0     7200            5            7   \n",
      "533    534          20         50.0     5000            1            3   \n",
      "553    554          20         67.0     8777            4            5   \n",
      "646    647          20         60.0     7200            5            5   \n",
      "705    706         190         70.0     5600            4            5   \n",
      "736    737          90         60.0     8544            3            4   \n",
      "749    750          50         50.0     8405            4            3   \n",
      "778    779          90         60.0     8400            5            5   \n",
      "868    869          60          0.0    14762            5            6   \n",
      "894    895          90         64.0     7018            5            5   \n",
      "897    898          90         64.0     7018            5            5   \n",
      "984    985          90         75.0    10125            5            5   \n",
      "1000  1001          20         74.0    10206            3            3   \n",
      "1011  1012          90         75.0     9825            5            5   \n",
      "1035  1036          20          0.0    11500            4            3   \n",
      "1045  1046          20          0.0    13680            3            5   \n",
      "1048  1049          20        100.0    21750            5            4   \n",
      "1049  1050          20         60.0    11100            4            7   \n",
      "1090  1091          90         60.0     8544            3            4   \n",
      "1179  1180          20         77.0     8335            5            5   \n",
      "1216  1217          90         68.0     8930            6            5   \n",
      "1218  1219          50         52.0     6240            4            5   \n",
      "1232  1233          90         70.0     9842            4            5   \n",
      "1321  1322          20          0.0     6627            3            6   \n",
      "1412  1413          90         60.0     7200            4            5   \n",
      "\n",
      "      YearBuilt  YearRemodAdd  MasVnrArea  ExterQual  ...  SaleType_CWD  \\\n",
      "17         1967          1967         0.0          3  ...             0   \n",
      "39         1955          1955         0.0          3  ...             0   \n",
      "90         1950          1950         0.0          3  ...             0   \n",
      "102        1979          1979         0.0          3  ...             0   \n",
      "156        1950          1950         0.0          3  ...             0   \n",
      "182        1957          2006        98.0          3  ...             0   \n",
      "259        1956          1956         0.0          3  ...             0   \n",
      "342        1949          1950       340.0          3  ...             0   \n",
      "362        2003          2003       500.0          4  ...             0   \n",
      "371        1959          1959         0.0          3  ...             0   \n",
      "392        1959          1959         0.0          3  ...             0   \n",
      "520        1900          2000         0.0          3  ...             0   \n",
      "532        1955          2007         0.0          3  ...             0   \n",
      "533        1946          1950         0.0          2  ...             0   \n",
      "553        1949          2003         0.0          3  ...             0   \n",
      "646        1950          1950         0.0          3  ...             0   \n",
      "705        1930          1950         0.0          2  ...             0   \n",
      "736        1950          1950         0.0          3  ...             0   \n",
      "749        1945          1950         0.0          3  ...             0   \n",
      "778        1977          1977       320.0          3  ...             0   \n",
      "868        1948          1950         0.0          3  ...             0   \n",
      "894        1979          1979         0.0          3  ...             0   \n",
      "897        1979          1979         0.0          3  ...             0   \n",
      "984        1977          1977         0.0          3  ...             0   \n",
      "1000       1952          1952         0.0          3  ...             0   \n",
      "1011       1965          1965         0.0          3  ...             0   \n",
      "1035       1957          1957         0.0          3  ...             0   \n",
      "1045       1955          1955         0.0          3  ...             0   \n",
      "1048       1960          2006        75.0          3  ...             0   \n",
      "1049       1946          2006         0.0          3  ...             0   \n",
      "1090       1950          1950         0.0          3  ...             0   \n",
      "1179       1954          1954         0.0          3  ...             0   \n",
      "1216       1978          1978         0.0          3  ...             0   \n",
      "1218       1947          1950         0.0          3  ...             0   \n",
      "1232       1962          1962         0.0          3  ...             0   \n",
      "1321       1949          1950         0.0          3  ...             0   \n",
      "1412       1949          1950         0.0          3  ...             0   \n",
      "\n",
      "      SaleType_ConLw  SaleType_Con  SaleType_Oth  SaleCondition_Normal  \\\n",
      "17                 0             0             0                     1   \n",
      "39                 0             0             0                     0   \n",
      "90                 0             0             0                     1   \n",
      "102                0             0             0                     0   \n",
      "156                0             0             0                     1   \n",
      "182                0             0             0                     1   \n",
      "259                0             0             0                     1   \n",
      "342                0             0             0                     1   \n",
      "362                0             0             0                     1   \n",
      "371                0             0             0                     1   \n",
      "392                0             0             0                     1   \n",
      "520                0             0             0                     1   \n",
      "532                0             0             0                     1   \n",
      "533                0             0             0                     1   \n",
      "553                0             0             0                     1   \n",
      "646                0             0             0                     1   \n",
      "705                0             0             0                     1   \n",
      "736                0             0             0                     1   \n",
      "749                0             0             0                     1   \n",
      "778                0             0             0                     1   \n",
      "868                0             0             0                     1   \n",
      "894                0             0             0                     0   \n",
      "897                0             0             0                     0   \n",
      "984                0             0             0                     1   \n",
      "1000               0             0             0                     1   \n",
      "1011               0             0             0                     1   \n",
      "1035               0             0             0                     1   \n",
      "1045               0             0             0                     1   \n",
      "1048               0             0             0                     1   \n",
      "1049               0             0             0                     0   \n",
      "1090               0             0             0                     1   \n",
      "1179               0             0             0                     1   \n",
      "1216               0             0             0                     1   \n",
      "1218               0             0             0                     1   \n",
      "1232               0             0             0                     1   \n",
      "1321               0             0             0                     1   \n",
      "1412               0             0             0                     1   \n",
      "\n",
      "      SaleCondition_Abnorml  SaleCondition_Partial  SaleCondition_AdjLand  \\\n",
      "17                        0                      0                      0   \n",
      "39                        0                      0                      1   \n",
      "90                        0                      0                      0   \n",
      "102                       0                      0                      0   \n",
      "156                       0                      0                      0   \n",
      "182                       0                      0                      0   \n",
      "259                       0                      0                      0   \n",
      "342                       0                      0                      0   \n",
      "362                       0                      0                      0   \n",
      "371                       0                      0                      0   \n",
      "392                       0                      0                      0   \n",
      "520                       0                      0                      0   \n",
      "532                       0                      0                      0   \n",
      "533                       0                      0                      0   \n",
      "553                       0                      0                      0   \n",
      "646                       0                      0                      0   \n",
      "705                       0                      0                      0   \n",
      "736                       0                      0                      0   \n",
      "749                       0                      0                      0   \n",
      "778                       0                      0                      0   \n",
      "868                       0                      0                      0   \n",
      "894                       0                      0                      0   \n",
      "897                       0                      0                      0   \n",
      "984                       0                      0                      0   \n",
      "1000                      0                      0                      0   \n",
      "1011                      0                      0                      0   \n",
      "1035                      0                      0                      0   \n",
      "1045                      0                      0                      0   \n",
      "1048                      0                      0                      0   \n",
      "1049                      1                      0                      0   \n",
      "1090                      0                      0                      0   \n",
      "1179                      0                      0                      0   \n",
      "1216                      0                      0                      0   \n",
      "1218                      0                      0                      0   \n",
      "1232                      0                      0                      0   \n",
      "1321                      0                      0                      0   \n",
      "1412                      0                      0                      0   \n",
      "\n",
      "      SaleCondition_Alloca  SaleCondition_Family  \n",
      "17                       0                     0  \n",
      "39                       0                     0  \n",
      "90                       0                     0  \n",
      "102                      1                     0  \n",
      "156                      0                     0  \n",
      "182                      0                     0  \n",
      "259                      0                     0  \n",
      "342                      0                     0  \n",
      "362                      0                     0  \n",
      "371                      0                     0  \n",
      "392                      0                     0  \n",
      "520                      0                     0  \n",
      "532                      0                     0  \n",
      "533                      0                     0  \n",
      "553                      0                     0  \n",
      "646                      0                     0  \n",
      "705                      0                     0  \n",
      "736                      0                     0  \n",
      "749                      0                     0  \n",
      "778                      0                     0  \n",
      "868                      0                     0  \n",
      "894                      1                     0  \n",
      "897                      1                     0  \n",
      "984                      0                     0  \n",
      "1000                     0                     0  \n",
      "1011                     0                     0  \n",
      "1035                     0                     0  \n",
      "1045                     0                     0  \n",
      "1048                     0                     0  \n",
      "1049                     0                     0  \n",
      "1090                     0                     0  \n",
      "1179                     0                     0  \n",
      "1216                     0                     0  \n",
      "1218                     0                     0  \n",
      "1232                     0                     0  \n",
      "1321                     0                     0  \n",
      "1412                     0                     0  \n",
      "\n",
      "[37 rows x 259 columns]\n"
     ]
    }
   ],
   "source": [
    "na_rows = X_train[X_train[\"BsmtQual\"].isna()]\n",
    "\n",
    "# Afficher les lignes sélectionnées\n",
    "print(na_rows)"
   ]
  },
  {
   "cell_type": "code",
   "execution_count": 112,
   "metadata": {},
   "outputs": [],
   "source": [
    "X_train.fillna(0, inplace = True)\n",
    "X_test.fillna(0, inplace = True)"
   ]
  },
  {
   "attachments": {},
   "cell_type": "markdown",
   "metadata": {},
   "source": [
    "<h2 style=\"color:#f7ce5b; font-family: Arial, sans-serif; font-size: 40px; margin-top: 50px; border-bottom: 2px solid #f7ce5b;\">\n",
    "Linear Regression\n",
    "</h2>"
   ]
  },
  {
   "cell_type": "code",
   "execution_count": 113,
   "metadata": {},
   "outputs": [],
   "source": [
    "from sklearn.linear_model import LinearRegression\n",
    "\n",
    "# Création d'une instance de LinearRegression\n",
    "lin_reg = LinearRegression()\n",
    "\n",
    "# Apprentissage sur les données d'entraînement\n",
    "lin_reg.fit(X_train, Y_train)\n",
    "\n",
    "# Prédiction sur les données de test\n",
    "Y_pred_lin_reg = lin_reg.predict(X_test)"
   ]
  },
  {
   "cell_type": "code",
   "execution_count": 114,
   "metadata": {},
   "outputs": [],
   "source": [
    "df_res_lr = pd.DataFrame(columns=[\"Id\", \"SalePrice\"])\n",
    "df_res_lr[\"Id\"] = test[\"Id\"]\n",
    "df_res_lr[\"SalePrice\"] = Y_pred_lin_reg\n",
    "\n",
    "df_res_lr.to_csv(\"./results/result_lr.csv\", index=False)"
   ]
  },
  {
   "attachments": {},
   "cell_type": "markdown",
   "metadata": {},
   "source": [
    "<h2 style=\"color:#f7ce5b; font-family: Arial, sans-serif; font-size: 40px; margin-top: 50px; border-bottom: 2px solid #f7ce5b;\">\n",
    "Gradient Boosting\n",
    "</h2>"
   ]
  },
  {
   "cell_type": "code",
   "execution_count": 115,
   "metadata": {},
   "outputs": [],
   "source": [
    "from sklearn.ensemble import GradientBoostingRegressor\n",
    "from sklearn.model_selection import GridSearchCV\n",
    "from tqdm import tqdm\n",
    "\n",
    "param_grid = {'n_estimators': [50, 100, 200],\n",
    "              'learning_rate': [0.01, 0.1, 1],\n",
    "              'max_depth': [3, 4, 5]}\n",
    "\n",
    "gb_model = GradientBoostingRegressor(random_state=0)\n",
    "grid_search = GridSearchCV(gb_model, param_grid, cv=5, scoring='neg_mean_squared_error')\n",
    "\n",
    "grid_search.fit(X_train, Y_train)\n",
    "\n",
    "best_model = GradientBoostingRegressor(**grid_search.best_params_, random_state=0)\n",
    "best_model.fit(X_train, Y_train)\n",
    "\n",
    "y_pred = best_model.predict(X_test)"
   ]
  },
  {
   "cell_type": "code",
   "execution_count": 116,
   "metadata": {},
   "outputs": [],
   "source": [
    "df_res_gb = pd.DataFrame(columns=[\"Id\", \"SalePrice\"])\n",
    "df_res_gb[\"Id\"] = test[\"Id\"]\n",
    "df_res_gb[\"SalePrice\"] = y_pred\n",
    "\n",
    "df_res_gb.to_csv(\"./results/result_gb.csv\", index=False)"
   ]
  },
  {
   "attachments": {},
   "cell_type": "markdown",
   "metadata": {},
   "source": [
    "<h2 style=\"color:#f7ce5b; font-family: Arial, sans-serif; font-size: 40px; margin-top: 50px; border-bottom: 2px solid #f7ce5b;\">\n",
    "Light Boosting\n",
    "</h2>"
   ]
  },
  {
   "cell_type": "code",
   "execution_count": 117,
   "metadata": {},
   "outputs": [
    {
     "name": "stdout",
     "output_type": "stream",
     "text": [
      "[LightGBM] [Warning] Found whitespace in feature_names, replace with underlines\n",
      "[LightGBM] [Warning] Auto-choosing row-wise multi-threading, the overhead of testing was 0.002329 seconds.\n",
      "You can set `force_row_wise=true` to remove the overhead.\n",
      "And if memory is not enough, you can set `force_col_wise=true`.\n",
      "[LightGBM] [Info] Total Bins 3783\n",
      "[LightGBM] [Info] Number of data points in the train set: 1460, number of used features: 204\n",
      "[LightGBM] [Info] Start training from score 180921.195890\n"
     ]
    }
   ],
   "source": [
    "import lightgbm as lgb\n",
    "from sklearn import datasets\n",
    "from sklearn import metrics\n",
    "\n",
    "lgb_train = lgb.Dataset(X_train, Y_train)\n",
    "\n",
    "params = {\n",
    "    'objective': 'regression',\n",
    "    'learning_rate': 0.1,\n",
    "    'num_leaves': 4,\n",
    "    'verbose': 1,\n",
    "    'min_data_in_leaf': 5,\n",
    "    'feature_fraction': 0.5,\n",
    "    'bagging_fraction': 0.5,\n",
    "    'bagging_freq': 1,\n",
    "    'metric': 'mse'\n",
    "}\n",
    "\n",
    "model_lgb = lgb.train(params, lgb_train, num_boost_round=100)\n",
    "res_lgb = model_lgb.predict(X_test)"
   ]
  },
  {
   "cell_type": "code",
   "execution_count": 118,
   "metadata": {},
   "outputs": [],
   "source": [
    "df_res_lgb = pd.DataFrame(columns=[\"Id\", \"SalePrice\"])\n",
    "df_res_lgb[\"Id\"] = test[\"Id\"]\n",
    "df_res_lgb[\"SalePrice\"] = res_lgb\n",
    "\n",
    "df_res_lgb.to_csv(\"./results/result_lgb.csv\", index=False)"
   ]
  },
  {
   "attachments": {},
   "cell_type": "markdown",
   "metadata": {},
   "source": [
    "<h2 style=\"color:#f7ce5b; font-family: Arial, sans-serif; font-size: 40px; margin-top: 50px; border-bottom: 2px solid #f7ce5b;\">\n",
    "CAT Boosting\n",
    "</h2>"
   ]
  },
  {
   "cell_type": "code",
   "execution_count": 119,
   "metadata": {},
   "outputs": [
    {
     "name": "stdout",
     "output_type": "stream",
     "text": [
      "0:\tlearn: 6.4772865\ttotal: 6.41s\tremaining: 5m 14s\n",
      "1:\tlearn: 6.4576946\ttotal: 13.4s\tremaining: 5m 22s\n",
      "2:\tlearn: 6.4361488\ttotal: 18.9s\tremaining: 4m 56s\n",
      "3:\tlearn: 6.4170204\ttotal: 23.9s\tremaining: 4m 35s\n",
      "4:\tlearn: 6.3995997\ttotal: 29.4s\tremaining: 4m 24s\n",
      "5:\tlearn: 6.3787754\ttotal: 33.8s\tremaining: 4m 7s\n",
      "6:\tlearn: 6.3547626\ttotal: 37.7s\tremaining: 3m 51s\n",
      "7:\tlearn: 6.3329695\ttotal: 41.8s\tremaining: 3m 39s\n",
      "8:\tlearn: 6.3133457\ttotal: 46.7s\tremaining: 3m 32s\n",
      "9:\tlearn: 6.2937541\ttotal: 52.1s\tremaining: 3m 28s\n",
      "10:\tlearn: 6.2734199\ttotal: 57.4s\tremaining: 3m 23s\n",
      "11:\tlearn: 6.2506707\ttotal: 1m 2s\tremaining: 3m 17s\n",
      "12:\tlearn: 6.2315775\ttotal: 1m 8s\tremaining: 3m 13s\n",
      "13:\tlearn: 6.2073509\ttotal: 1m 12s\tremaining: 3m 6s\n",
      "14:\tlearn: 6.1868286\ttotal: 1m 17s\tremaining: 3m 1s\n",
      "15:\tlearn: 6.1686580\ttotal: 1m 23s\tremaining: 2m 57s\n",
      "16:\tlearn: 6.1490174\ttotal: 1m 28s\tremaining: 2m 52s\n",
      "17:\tlearn: 6.1297666\ttotal: 1m 34s\tremaining: 2m 47s\n",
      "18:\tlearn: 6.1117450\ttotal: 1m 40s\tremaining: 2m 43s\n",
      "19:\tlearn: 6.0920588\ttotal: 1m 45s\tremaining: 2m 38s\n",
      "20:\tlearn: 6.0725762\ttotal: 1m 50s\tremaining: 2m 32s\n",
      "21:\tlearn: 6.0535594\ttotal: 1m 56s\tremaining: 2m 27s\n",
      "22:\tlearn: 6.0345069\ttotal: 2m 1s\tremaining: 2m 22s\n",
      "23:\tlearn: 6.0145415\ttotal: 2m 6s\tremaining: 2m 16s\n",
      "24:\tlearn: 5.9953809\ttotal: 2m 11s\tremaining: 2m 11s\n",
      "25:\tlearn: 5.9771366\ttotal: 2m 15s\tremaining: 2m 5s\n",
      "26:\tlearn: 5.9578029\ttotal: 2m 20s\tremaining: 1m 59s\n",
      "27:\tlearn: 5.9393833\ttotal: 2m 24s\tremaining: 1m 53s\n",
      "28:\tlearn: 5.9241556\ttotal: 2m 29s\tremaining: 1m 47s\n",
      "29:\tlearn: 5.9064732\ttotal: 2m 34s\tremaining: 1m 43s\n",
      "30:\tlearn: 5.8874558\ttotal: 2m 38s\tremaining: 1m 37s\n",
      "31:\tlearn: 5.8704382\ttotal: 2m 45s\tremaining: 1m 32s\n",
      "32:\tlearn: 5.8503892\ttotal: 2m 49s\tremaining: 1m 27s\n",
      "33:\tlearn: 5.8342960\ttotal: 2m 54s\tremaining: 1m 21s\n",
      "34:\tlearn: 5.8165799\ttotal: 2m 58s\tremaining: 1m 16s\n",
      "35:\tlearn: 5.8001745\ttotal: 3m 3s\tremaining: 1m 11s\n",
      "36:\tlearn: 5.7822775\ttotal: 3m 7s\tremaining: 1m 5s\n",
      "37:\tlearn: 5.7651285\ttotal: 3m 12s\tremaining: 1m\n",
      "38:\tlearn: 5.7488381\ttotal: 3m 17s\tremaining: 55.6s\n",
      "39:\tlearn: 5.7315999\ttotal: 3m 22s\tremaining: 50.6s\n",
      "40:\tlearn: 5.7138646\ttotal: 3m 27s\tremaining: 45.5s\n",
      "41:\tlearn: 5.6979846\ttotal: 3m 32s\tremaining: 40.4s\n",
      "42:\tlearn: 5.6819872\ttotal: 3m 37s\tremaining: 35.4s\n",
      "43:\tlearn: 5.6663618\ttotal: 3m 42s\tremaining: 30.3s\n",
      "44:\tlearn: 5.6512226\ttotal: 3m 47s\tremaining: 25.2s\n",
      "45:\tlearn: 5.6347588\ttotal: 3m 51s\tremaining: 20.1s\n",
      "46:\tlearn: 5.6182584\ttotal: 3m 56s\tremaining: 15.1s\n",
      "47:\tlearn: 5.6007973\ttotal: 4m 2s\tremaining: 10.1s\n",
      "48:\tlearn: 5.5839994\ttotal: 4m 7s\tremaining: 5.05s\n",
      "49:\tlearn: 5.5663090\ttotal: 4m 11s\tremaining: 0us\n"
     ]
    }
   ],
   "source": [
    "from catboost import CatBoostClassifier\n",
    "model_catboost = CatBoostClassifier(iterations=50, learning_rate=0.05, depth=6, l2_leaf_reg=3)\n",
    "\n",
    "# entraînement du modèle sur les données d'entraînement\n",
    "model_catboost.fit(X_train, Y_train)\n",
    "\n",
    "# prédiction sur les données de test\n",
    "Y_pred = model_catboost.predict(X_test)"
   ]
  },
  {
   "cell_type": "code",
   "execution_count": 120,
   "metadata": {},
   "outputs": [],
   "source": [
    "df_res_cat = pd.DataFrame(columns=[\"Id\", \"SalePrice\"])\n",
    "df_res_cat[\"Id\"] = test[\"Id\"]\n",
    "df_res_cat[\"SalePrice\"] = Y_pred\n",
    "\n",
    "df_res_cat.to_csv(\"./results/result_cat.csv\", index=False)"
   ]
  },
  {
   "attachments": {},
   "cell_type": "markdown",
   "metadata": {},
   "source": [
    "Catboost seems have the worst score here, Gradient Boosting is having the best score to predict those prices."
   ]
  }
 ],
 "metadata": {
  "kernelspec": {
   "display_name": "base",
   "language": "python",
   "name": "python3"
  },
  "language_info": {
   "codemirror_mode": {
    "name": "ipython",
    "version": 3
   },
   "file_extension": ".py",
   "mimetype": "text/x-python",
   "name": "python",
   "nbconvert_exporter": "python",
   "pygments_lexer": "ipython3",
   "version": "3.9.7"
  },
  "orig_nbformat": 4
 },
 "nbformat": 4,
 "nbformat_minor": 2
}
